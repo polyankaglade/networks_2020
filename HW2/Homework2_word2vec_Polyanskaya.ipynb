{
 "cells": [
  {
   "cell_type": "code",
   "execution_count": 2,
   "metadata": {
    "executionInfo": {
     "elapsed": 4944,
     "status": "ok",
     "timestamp": 1605116195365,
     "user": {
      "displayName": "Anna Polyanskaya",
      "photoUrl": "https://lh3.googleusercontent.com/a-/AOh14GjCUYMOQt6aOB-2CITnf-qOI1gYhyk4iXet5aGw=s64",
      "userId": "11441471589656650230"
     },
     "user_tz": -180
    },
    "id": "R5tQkHe6kTWE"
   },
   "outputs": [],
   "source": [
    "import json\n",
    "import random\n",
    "from tqdm.auto import tqdm\n",
    "import numpy as np\n",
    "\n",
    "from matplotlib import pyplot as plt\n",
    "from sklearn.decomposition import TruncatedSVD\n",
    "from sklearn.manifold import TSNE\n",
    "\n",
    "import torch\n",
    "\n",
    "from pylab import rcParams\n",
    "rcParams['figure.figsize'] = 15, 15"
   ]
  },
  {
   "cell_type": "markdown",
   "metadata": {
    "id": "mgPEgqBHkTWK"
   },
   "source": [
    "# Что делать?\n",
    "Где есть пометка # CODE писать код\n",
    "\n",
    "[Полезный туториал](http://jalammar.github.io/illustrated-word2vec/)"
   ]
  },
  {
   "cell_type": "markdown",
   "metadata": {
    "id": "V-Q_t6dSkTWL"
   },
   "source": [
    "# Загружаем данные\n",
    "Они уже обработанные и токенизированные. Процесс можно посмотреть в тетрадке 1.1 Processing corpus"
   ]
  },
  {
   "cell_type": "code",
   "execution_count": 3,
   "metadata": {
    "colab": {
     "base_uri": "https://localhost:8080/"
    },
    "executionInfo": {
     "elapsed": 3358,
     "status": "ok",
     "timestamp": 1605116204806,
     "user": {
      "displayName": "Anna Polyanskaya",
      "photoUrl": "https://lh3.googleusercontent.com/a-/AOh14GjCUYMOQt6aOB-2CITnf-qOI1gYhyk4iXet5aGw=s64",
      "userId": "11441471589656650230"
     },
     "user_tz": -180
    },
    "id": "aHg5vS6Ik-Uv",
    "outputId": "c91f2245-b008-4b29-cc0e-195964a6df90"
   },
   "outputs": [
    {
     "name": "stdout",
     "output_type": "stream",
     "text": [
      "--2020-11-11 17:36:42--  https://github.com/semensorokin/DL_for_NLP_2021/blob/master/homework2/data/corpus.json.zip?raw=true\n",
      "Resolving github.com (github.com)... 140.82.112.4\n",
      "Connecting to github.com (github.com)|140.82.112.4|:443... connected.\n",
      "HTTP request sent, awaiting response... 302 Found\n",
      "Location: https://github.com/semensorokin/DL_for_NLP_2021/raw/master/homework2/data/corpus.json.zip [following]\n",
      "--2020-11-11 17:36:42--  https://github.com/semensorokin/DL_for_NLP_2021/raw/master/homework2/data/corpus.json.zip\n",
      "Reusing existing connection to github.com:443.\n",
      "HTTP request sent, awaiting response... 302 Found\n",
      "Location: https://raw.githubusercontent.com/semensorokin/DL_for_NLP_2021/master/homework2/data/corpus.json.zip [following]\n",
      "--2020-11-11 17:36:43--  https://raw.githubusercontent.com/semensorokin/DL_for_NLP_2021/master/homework2/data/corpus.json.zip\n",
      "Resolving raw.githubusercontent.com (raw.githubusercontent.com)... 151.101.0.133, 151.101.64.133, 151.101.128.133, ...\n",
      "Connecting to raw.githubusercontent.com (raw.githubusercontent.com)|151.101.0.133|:443... connected.\n",
      "HTTP request sent, awaiting response... 200 OK\n",
      "Length: 52030242 (50M) [application/zip]\n",
      "Saving to: ‘corpus.json.zip?raw=true’\n",
      "\n",
      "corpus.json.zip?raw 100%[===================>]  49.62M  69.5MB/s    in 0.7s    \n",
      "\n",
      "2020-11-11 17:36:44 (69.5 MB/s) - ‘corpus.json.zip?raw=true’ saved [52030242/52030242]\n",
      "\n"
     ]
    }
   ],
   "source": [
    "!wget https://github.com/semensorokin/DL_for_NLP_2021/blob/master/homework2/data/corpus.json.zip?raw=true"
   ]
  },
  {
   "cell_type": "code",
   "execution_count": 4,
   "metadata": {
    "colab": {
     "base_uri": "https://localhost:8080/"
    },
    "executionInfo": {
     "elapsed": 3530,
     "status": "ok",
     "timestamp": 1605116210713,
     "user": {
      "displayName": "Anna Polyanskaya",
      "photoUrl": "https://lh3.googleusercontent.com/a-/AOh14GjCUYMOQt6aOB-2CITnf-qOI1gYhyk4iXet5aGw=s64",
      "userId": "11441471589656650230"
     },
     "user_tz": -180
    },
    "id": "DNDlu__ElJk4",
    "outputId": "2274926b-deb7-49df-fb04-8531326d3c21"
   },
   "outputs": [
    {
     "name": "stdout",
     "output_type": "stream",
     "text": [
      "Archive:  corpus.json.zip?raw=true\n",
      "  inflating: corpus.json             \n",
      "   creating: __MACOSX/\n",
      "  inflating: __MACOSX/._corpus.json  \n"
     ]
    }
   ],
   "source": [
    "!unzip corpus.json.zip?raw=true"
   ]
  },
  {
   "cell_type": "code",
   "execution_count": 5,
   "metadata": {
    "executionInfo": {
     "elapsed": 7005,
     "status": "ok",
     "timestamp": 1605116219431,
     "user": {
      "displayName": "Anna Polyanskaya",
      "photoUrl": "https://lh3.googleusercontent.com/a-/AOh14GjCUYMOQt6aOB-2CITnf-qOI1gYhyk4iXet5aGw=s64",
      "userId": "11441471589656650230"
     },
     "user_tz": -180
    },
    "id": "YOvSiahtkTWM"
   },
   "outputs": [],
   "source": [
    "with open('/content/corpus.json') as f: \n",
    "    corpus = json.load(f)"
   ]
  },
  {
   "cell_type": "code",
   "execution_count": 6,
   "metadata": {
    "colab": {
     "base_uri": "https://localhost:8080/"
    },
    "executionInfo": {
     "elapsed": 1203,
     "status": "ok",
     "timestamp": 1605116225181,
     "user": {
      "displayName": "Anna Polyanskaya",
      "photoUrl": "https://lh3.googleusercontent.com/a-/AOh14GjCUYMOQt6aOB-2CITnf-qOI1gYhyk4iXet5aGw=s64",
      "userId": "11441471589656650230"
     },
     "user_tz": -180
    },
    "id": "v2cBwmrCkTWR",
    "outputId": "77f637d5-bd4f-4f09-c7b9-59721b5ed8a1"
   },
   "outputs": [
    {
     "data": {
      "text/plain": [
       "1157366"
      ]
     },
     "execution_count": 6,
     "metadata": {
      "tags": []
     },
     "output_type": "execute_result"
    }
   ],
   "source": [
    "len(corpus)"
   ]
  },
  {
   "cell_type": "code",
   "execution_count": null,
   "metadata": {
    "colab": {
     "base_uri": "https://localhost:8080/"
    },
    "executionInfo": {
     "elapsed": 972,
     "status": "ok",
     "timestamp": 1605111484472,
     "user": {
      "displayName": "",
      "photoUrl": "",
      "userId": ""
     },
     "user_tz": -180
    },
    "id": "NhXPdJfomiMt",
    "outputId": "d5dd2bc5-33a3-4d1a-f85b-3375dc32afd1"
   },
   "outputs": [
    {
     "name": "stdout",
     "output_type": "stream",
     "text": [
      "оказалось для пользовании этой услугой банку нужно предоставить фото отчет накладных и магазина склада\n",
      "затем эквайринг разблокировали но тут начинается самое веселое мне выставляют счет за пользование нерабочим экварингом\n",
      "##число фз о исполнительном производстве банк заблокировал денежные средства счет и кредитный лимит\n",
      "##число фз о исполнительном производстве блокируются денежные средства а не счёт банку не известно\n",
      "курьер перезыонил мне через некоторое время и сообщил что по заявке было принято отрицательное решение\n",
      "как так могло произойти что у меня на руках подписанный договор а решение было отрицательное\n",
      "##число у меня ##число карты часто бывает что по одной операции проходят а по второй нет\n",
      "каждый месяц вношу платёж по кредитной карте через голосовое меню восточного банка\n",
      "по сообщению от банка я обязана была внести сумму до ##число включительно\n",
      "но проснувшись ##число май пришла смс о том что у меня просрочка ##число рублей\n"
     ]
    }
   ],
   "source": [
    "for text in corpus[:10]:\n",
    "    print(' '.join(text))"
   ]
  },
  {
   "cell_type": "code",
   "execution_count": null,
   "metadata": {
    "colab": {
     "base_uri": "https://localhost:8080/"
    },
    "executionInfo": {
     "elapsed": 586,
     "status": "ok",
     "timestamp": 1605111485765,
     "user": {
      "displayName": "",
      "photoUrl": "",
      "userId": ""
     },
     "user_tz": -180
    },
    "id": "Fl3rueh_kTWX",
    "outputId": "36796c6f-72ca-4a52-d961-33788da0ebf0"
   },
   "outputs": [
    {
     "name": "stdout",
     "output_type": "stream",
     "text": [
      "оказалось для пользовании этой услугой банку нужно предоставить фото отчет накладных и магазина склада\n",
      "затем эквайринг разблокировали но тут начинается самое веселое мне выставляют счет за пользование нерабочим экварингом\n",
      "##число фз о исполнительном производстве банк заблокировал денежные средства счет и кредитный лимит\n",
      "##число фз о исполнительном производстве блокируются денежные средства а не счёт банку не известно\n",
      "курьер перезыонил мне через некоторое время и сообщил что по заявке было принято отрицательное решение\n"
     ]
    }
   ],
   "source": [
    "for text in corpus[:5]:\n",
    "    print(' '.join(text))"
   ]
  },
  {
   "cell_type": "markdown",
   "metadata": {
    "id": "yfBKFYPVY1oc"
   },
   "source": [
    "# Препроцессинг текста (скопировано из тетерадки"
   ]
  },
  {
   "cell_type": "code",
   "execution_count": 8,
   "metadata": {
    "colab": {
     "base_uri": "https://localhost:8080/"
    },
    "executionInfo": {
     "elapsed": 5308,
     "status": "ok",
     "timestamp": 1605116379630,
     "user": {
      "displayName": "Anna Polyanskaya",
      "photoUrl": "https://lh3.googleusercontent.com/a-/AOh14GjCUYMOQt6aOB-2CITnf-qOI1gYhyk4iXet5aGw=s64",
      "userId": "11441471589656650230"
     },
     "user_tz": -180
    },
    "id": "RQopU1soZAOm",
    "outputId": "84355bf1-12e1-4d0d-f752-bceadf871cc3"
   },
   "outputs": [
    {
     "name": "stdout",
     "output_type": "stream",
     "text": [
      "Collecting pymorphy2\n",
      "\u001b[?25l  Downloading https://files.pythonhosted.org/packages/07/57/b2ff2fae3376d4f3c697b9886b64a54b476e1a332c67eee9f88e7f1ae8c9/pymorphy2-0.9.1-py3-none-any.whl (55kB)\n",
      "\r",
      "\u001b[K     |██████                          | 10kB 15.9MB/s eta 0:00:01\r",
      "\u001b[K     |███████████▉                    | 20kB 1.7MB/s eta 0:00:01\r",
      "\u001b[K     |█████████████████▊              | 30kB 2.0MB/s eta 0:00:01\r",
      "\u001b[K     |███████████████████████▋        | 40kB 2.3MB/s eta 0:00:01\r",
      "\u001b[K     |█████████████████████████████▌  | 51kB 2.0MB/s eta 0:00:01\r",
      "\u001b[K     |████████████████████████████████| 61kB 1.9MB/s \n",
      "\u001b[?25hCollecting dawg-python>=0.7.1\n",
      "  Downloading https://files.pythonhosted.org/packages/6a/84/ff1ce2071d4c650ec85745766c0047ccc3b5036f1d03559fd46bb38b5eeb/DAWG_Python-0.7.2-py2.py3-none-any.whl\n",
      "Collecting pymorphy2-dicts-ru<3.0,>=2.4\n",
      "\u001b[?25l  Downloading https://files.pythonhosted.org/packages/3a/79/bea0021eeb7eeefde22ef9e96badf174068a2dd20264b9a378f2be1cdd9e/pymorphy2_dicts_ru-2.4.417127.4579844-py2.py3-none-any.whl (8.2MB)\n",
      "\u001b[K     |████████████████████████████████| 8.2MB 5.3MB/s \n",
      "\u001b[?25hRequirement already satisfied: docopt>=0.6 in /usr/local/lib/python3.6/dist-packages (from pymorphy2) (0.6.2)\n",
      "Installing collected packages: dawg-python, pymorphy2-dicts-ru, pymorphy2\n",
      "Successfully installed dawg-python-0.7.2 pymorphy2-0.9.1 pymorphy2-dicts-ru-2.4.417127.4579844\n"
     ]
    }
   ],
   "source": [
    "!pip install pymorphy2"
   ]
  },
  {
   "cell_type": "code",
   "execution_count": 13,
   "metadata": {
    "colab": {
     "base_uri": "https://localhost:8080/"
    },
    "executionInfo": {
     "elapsed": 665,
     "status": "ok",
     "timestamp": 1605116538435,
     "user": {
      "displayName": "Anna Polyanskaya",
      "photoUrl": "https://lh3.googleusercontent.com/a-/AOh14GjCUYMOQt6aOB-2CITnf-qOI1gYhyk4iXet5aGw=s64",
      "userId": "11441471589656650230"
     },
     "user_tz": -180
    },
    "id": "vhQnpQcgY6iA",
    "outputId": "4519a297-588d-4d91-b749-7b66b188510b"
   },
   "outputs": [
    {
     "name": "stdout",
     "output_type": "stream",
     "text": [
      "[nltk_data] Downloading package stopwords to /root/nltk_data...\n",
      "[nltk_data]   Unzipping corpora/stopwords.zip.\n"
     ]
    },
    {
     "data": {
      "text/plain": [
       "True"
      ]
     },
     "execution_count": 13,
     "metadata": {
      "tags": []
     },
     "output_type": "execute_result"
    }
   ],
   "source": [
    "import json\n",
    "from pymorphy2 import MorphAnalyzer\n",
    "from tqdm import tqdm\n",
    "import pandas as pd\n",
    "import numpy as np\n",
    "import random\n",
    "import nltk\n",
    "nltk.download('stopwords')"
   ]
  },
  {
   "cell_type": "code",
   "execution_count": 10,
   "metadata": {
    "executionInfo": {
     "elapsed": 646,
     "status": "ok",
     "timestamp": 1605116438254,
     "user": {
      "displayName": "Anna Polyanskaya",
      "photoUrl": "https://lh3.googleusercontent.com/a-/AOh14GjCUYMOQt6aOB-2CITnf-qOI1gYhyk4iXet5aGw=s64",
      "userId": "11441471589656650230"
     },
     "user_tz": -180
    },
    "id": "-ljK5-uPZF69"
   },
   "outputs": [],
   "source": [
    "morph = MorphAnalyzer()\n",
    "\n",
    "def get_lemma(word):\n",
    "    \n",
    "    word_data = morph.parse(word)[0]\n",
    "    \n",
    "    return word_data.normal_form"
   ]
  },
  {
   "cell_type": "code",
   "execution_count": 11,
   "metadata": {
    "colab": {
     "base_uri": "https://localhost:8080/"
    },
    "executionInfo": {
     "elapsed": 43391,
     "status": "ok",
     "timestamp": 1605116489849,
     "user": {
      "displayName": "Anna Polyanskaya",
      "photoUrl": "https://lh3.googleusercontent.com/a-/AOh14GjCUYMOQt6aOB-2CITnf-qOI1gYhyk4iXet5aGw=s64",
      "userId": "11441471589656650230"
     },
     "user_tz": -180
    },
    "id": "BjwxylFLZF9V",
    "outputId": "ed41f53d-e48c-4b92-ec29-359b1ff1ed95"
   },
   "outputs": [
    {
     "name": "stderr",
     "output_type": "stream",
     "text": [
      "100%|██████████| 1157366/1157366 [00:42<00:00, 27161.94it/s]\n"
     ]
    }
   ],
   "source": [
    "tok2lemma = {}\n",
    "\n",
    "for text in tqdm(corpus):\n",
    "    for tok in text:\n",
    "        if tok not in tok2lemma:\n",
    "            tok2lemma[tok] = get_lemma(tok)"
   ]
  },
  {
   "cell_type": "code",
   "execution_count": 14,
   "metadata": {
    "executionInfo": {
     "elapsed": 638,
     "status": "ok",
     "timestamp": 1605116542927,
     "user": {
      "displayName": "Anna Polyanskaya",
      "photoUrl": "https://lh3.googleusercontent.com/a-/AOh14GjCUYMOQt6aOB-2CITnf-qOI1gYhyk4iXet5aGw=s64",
      "userId": "11441471589656650230"
     },
     "user_tz": -180
    },
    "id": "qJV_JVQuZF_8"
   },
   "outputs": [],
   "source": [
    "stopwords = nltk.corpus.stopwords.words('russian')"
   ]
  },
  {
   "cell_type": "code",
   "execution_count": 15,
   "metadata": {
    "colab": {
     "base_uri": "https://localhost:8080/"
    },
    "executionInfo": {
     "elapsed": 29414,
     "status": "ok",
     "timestamp": 1605116575594,
     "user": {
      "displayName": "Anna Polyanskaya",
      "photoUrl": "https://lh3.googleusercontent.com/a-/AOh14GjCUYMOQt6aOB-2CITnf-qOI1gYhyk4iXet5aGw=s64",
      "userId": "11441471589656650230"
     },
     "user_tz": -180
    },
    "id": "sBailmByZGEa",
    "outputId": "aac8b377-703b-444f-c5cc-e1a34e618b19"
   },
   "outputs": [
    {
     "name": "stderr",
     "output_type": "stream",
     "text": [
      "100%|██████████| 1157366/1157366 [00:28<00:00, 39939.00it/s]\n"
     ]
    }
   ],
   "source": [
    "lemmas_corpus = [[tok2lemma[tok] for tok in text if tok not in stopwords and tok] for text in tqdm(corpus)]"
   ]
  },
  {
   "cell_type": "code",
   "execution_count": 16,
   "metadata": {
    "colab": {
     "base_uri": "https://localhost:8080/"
    },
    "executionInfo": {
     "elapsed": 4294,
     "status": "ok",
     "timestamp": 1605116602625,
     "user": {
      "displayName": "Anna Polyanskaya",
      "photoUrl": "https://lh3.googleusercontent.com/a-/AOh14GjCUYMOQt6aOB-2CITnf-qOI1gYhyk4iXet5aGw=s64",
      "userId": "11441471589656650230"
     },
     "user_tz": -180
    },
    "id": "Cqduu0G5ZGH4",
    "outputId": "3a4fcb85-4a1d-4703-c47f-b6adc3841d34"
   },
   "outputs": [
    {
     "name": "stderr",
     "output_type": "stream",
     "text": [
      "100%|██████████| 1157366/1157366 [00:03<00:00, 315070.30it/s]\n"
     ]
    }
   ],
   "source": [
    "freq = {}\n",
    "\n",
    "for text in tqdm(lemmas_corpus):\n",
    "    for tok in text:\n",
    "        if tok in freq:\n",
    "            freq[tok] += 1\n",
    "        else:\n",
    "            freq[tok] = 1"
   ]
  },
  {
   "cell_type": "code",
   "execution_count": 18,
   "metadata": {
    "colab": {
     "base_uri": "https://localhost:8080/"
    },
    "executionInfo": {
     "elapsed": 635,
     "status": "ok",
     "timestamp": 1605116631965,
     "user": {
      "displayName": "Anna Polyanskaya",
      "photoUrl": "https://lh3.googleusercontent.com/a-/AOh14GjCUYMOQt6aOB-2CITnf-qOI1gYhyk4iXet5aGw=s64",
      "userId": "11441471589656650230"
     },
     "user_tz": -180
    },
    "id": "QtU0LNp5ZGCD",
    "outputId": "03f8d562-533e-4ee6-cab5-10b4d0844814"
   },
   "outputs": [
    {
     "data": {
      "text/plain": [
       "(76916, 2)"
      ]
     },
     "execution_count": 18,
     "metadata": {
      "tags": []
     },
     "output_type": "execute_result"
    }
   ],
   "source": [
    "freq_df = pd.DataFrame(data={'word': list(freq.keys()), \n",
    "                             'n_entries': list(freq.values())})\n",
    "freq_df.shape"
   ]
  },
  {
   "cell_type": "code",
   "execution_count": 19,
   "metadata": {
    "executionInfo": {
     "elapsed": 641,
     "status": "ok",
     "timestamp": 1605116640836,
     "user": {
      "displayName": "Anna Polyanskaya",
      "photoUrl": "https://lh3.googleusercontent.com/a-/AOh14GjCUYMOQt6aOB-2CITnf-qOI1gYhyk4iXet5aGw=s64",
      "userId": "11441471589656650230"
     },
     "user_tz": -180
    },
    "id": "is3teukzZxdN"
   },
   "outputs": [],
   "source": [
    "n_words = freq_df.n_entries.sum()"
   ]
  },
  {
   "cell_type": "code",
   "execution_count": 20,
   "metadata": {
    "colab": {
     "base_uri": "https://localhost:8080/"
    },
    "executionInfo": {
     "elapsed": 611,
     "status": "ok",
     "timestamp": 1605116663463,
     "user": {
      "displayName": "Anna Polyanskaya",
      "photoUrl": "https://lh3.googleusercontent.com/a-/AOh14GjCUYMOQt6aOB-2CITnf-qOI1gYhyk4iXet5aGw=s64",
      "userId": "11441471589656650230"
     },
     "user_tz": -180
    },
    "id": "d5cV0e-eZxfa",
    "outputId": "6dbb15cc-03f9-4a27-9dc0-c9f344344a94"
   },
   "outputs": [
    {
     "name": "stdout",
     "output_type": "stream",
     "text": [
      "Доля слов, которые мы заменим на UNK:\n",
      "Порог отсечения - 5, доля UNK - 0.76 %, слов в слове - 23307, удалили - 53609 слов\n",
      "Порог отсечения - 10, доля UNK - 1.18 %, слов в слове - 16771, удалили - 60145 слов\n",
      "Порог отсечения - 15, доля UNK - 1.51 %, слов в слове - 13782, удалили - 63134 слов\n",
      "Порог отсечения - 20, доля UNK - 1.81 %, слов в слове - 11946, удалили - 64970 слов\n",
      "Порог отсечения - 25, доля UNK - 2.07 %, слов в слове - 10737, удалили - 66179 слов\n",
      "Порог отсечения - 30, доля UNK - 2.30 %, слов в слове - 9835, удалили - 67081 слов\n",
      "Порог отсечения - 35, доля UNK - 2.52 %, слов в слове - 9135, удалили - 67781 слов\n"
     ]
    }
   ],
   "source": [
    "print('Доля слов, которые мы заменим на UNK:')\n",
    "\n",
    "for threshold in np.arange(5, 36, 5):\n",
    "    \n",
    "    sub_df = freq_df[freq_df.n_entries < threshold]\n",
    "    \n",
    "    unk_freq = sub_df['n_entries'].sum() * 100 / n_words\n",
    "    \n",
    "    print('Порог отсечения - {}, доля UNK - {:.2f} %, слов в слове - {}, удалили - {} слов'.format(\n",
    "        threshold, unk_freq, freq_df.shape[0] - sub_df.shape[0], sub_df.shape[0]))"
   ]
  },
  {
   "cell_type": "code",
   "execution_count": 21,
   "metadata": {
    "colab": {
     "base_uri": "https://localhost:8080/"
    },
    "executionInfo": {
     "elapsed": 641,
     "status": "ok",
     "timestamp": 1605116695961,
     "user": {
      "displayName": "Anna Polyanskaya",
      "photoUrl": "https://lh3.googleusercontent.com/a-/AOh14GjCUYMOQt6aOB-2CITnf-qOI1gYhyk4iXet5aGw=s64",
      "userId": "11441471589656650230"
     },
     "user_tz": -180
    },
    "id": "QwXaLlBQZxjJ",
    "outputId": "e5789365-8389-4e56-b99e-da7f8c2fcd88"
   },
   "outputs": [
    {
     "data": {
      "text/plain": [
       "13782"
      ]
     },
     "execution_count": 21,
     "metadata": {
      "tags": []
     },
     "output_type": "execute_result"
    }
   ],
   "source": [
    "# кажется, что оптимально, но обычно берут меньше\n",
    "threshold = 15\n",
    "vocab = freq_df[freq_df.n_entries >= threshold]\n",
    "words = set(vocab.word)\n",
    "len(words)"
   ]
  },
  {
   "cell_type": "code",
   "execution_count": 22,
   "metadata": {
    "executionInfo": {
     "elapsed": 666,
     "status": "ok",
     "timestamp": 1605116708377,
     "user": {
      "displayName": "Anna Polyanskaya",
      "photoUrl": "https://lh3.googleusercontent.com/a-/AOh14GjCUYMOQt6aOB-2CITnf-qOI1gYhyk4iXet5aGw=s64",
      "userId": "11441471589656650230"
     },
     "user_tz": -180
    },
    "id": "Y3iWupmKZxmE"
   },
   "outputs": [],
   "source": [
    "def get_correct_words(word):\n",
    "    \n",
    "    if word in words:\n",
    "        return word\n",
    "    else:\n",
    "        return 'UNK'"
   ]
  },
  {
   "cell_type": "code",
   "execution_count": 23,
   "metadata": {
    "colab": {
     "base_uri": "https://localhost:8080/"
    },
    "executionInfo": {
     "elapsed": 5986,
     "status": "ok",
     "timestamp": 1605116727350,
     "user": {
      "displayName": "Anna Polyanskaya",
      "photoUrl": "https://lh3.googleusercontent.com/a-/AOh14GjCUYMOQt6aOB-2CITnf-qOI1gYhyk4iXet5aGw=s64",
      "userId": "11441471589656650230"
     },
     "user_tz": -180
    },
    "id": "O5C_o3s7Zxo2",
    "outputId": "ae68f5ae-94f9-4e65-e4de-a31c5c126084"
   },
   "outputs": [
    {
     "name": "stderr",
     "output_type": "stream",
     "text": [
      "100%|██████████| 1157366/1157366 [00:05<00:00, 210698.74it/s]\n"
     ]
    }
   ],
   "source": [
    "# заменим слово токеном UNK, если его нет в нашем новом словаре\n",
    "processed_corpus = [[get_correct_words(tok) for tok in text] for text in tqdm(lemmas_corpus)]"
   ]
  },
  {
   "cell_type": "code",
   "execution_count": 24,
   "metadata": {
    "executionInfo": {
     "elapsed": 794,
     "status": "ok",
     "timestamp": 1605116734313,
     "user": {
      "displayName": "Anna Polyanskaya",
      "photoUrl": "https://lh3.googleusercontent.com/a-/AOh14GjCUYMOQt6aOB-2CITnf-qOI1gYhyk4iXet5aGw=s64",
      "userId": "11441471589656650230"
     },
     "user_tz": -180
    },
    "id": "XS0HSsJPaUsI"
   },
   "outputs": [],
   "source": [
    "def drop_duplicate_unks(tokens):\n",
    "    \n",
    "    output_tokens = []\n",
    "    \n",
    "    for tok in tokens:\n",
    "        \n",
    "        if tok == 'UNK' and output_tokens and output_tokens[-1] == 'UNK':\n",
    "            continue\n",
    "            \n",
    "        output_tokens.append(tok)\n",
    "            \n",
    "    return output_tokens"
   ]
  },
  {
   "cell_type": "code",
   "execution_count": 25,
   "metadata": {
    "colab": {
     "base_uri": "https://localhost:8080/"
    },
    "executionInfo": {
     "elapsed": 4178,
     "status": "ok",
     "timestamp": 1605116762776,
     "user": {
      "displayName": "Anna Polyanskaya",
      "photoUrl": "https://lh3.googleusercontent.com/a-/AOh14GjCUYMOQt6aOB-2CITnf-qOI1gYhyk4iXet5aGw=s64",
      "userId": "11441471589656650230"
     },
     "user_tz": -180
    },
    "id": "OtJ2FsMfaUuS",
    "outputId": "2ab847c3-1cef-4186-e17d-477b9440efc8"
   },
   "outputs": [
    {
     "name": "stderr",
     "output_type": "stream",
     "text": [
      "100%|██████████| 1157366/1157366 [00:03<00:00, 325634.48it/s]\n"
     ]
    }
   ],
   "source": [
    "# дедублируем подряд идущие унки (оставим только один)\n",
    "processed_corpus = [drop_duplicate_unks(sample) for sample in tqdm(processed_corpus)]"
   ]
  },
  {
   "cell_type": "code",
   "execution_count": 26,
   "metadata": {
    "executionInfo": {
     "elapsed": 1667,
     "status": "ok",
     "timestamp": 1605116774407,
     "user": {
      "displayName": "Anna Polyanskaya",
      "photoUrl": "https://lh3.googleusercontent.com/a-/AOh14GjCUYMOQt6aOB-2CITnf-qOI1gYhyk4iXet5aGw=s64",
      "userId": "11441471589656650230"
     },
     "user_tz": -180
    },
    "id": "RWxB_B7CaUxV"
   },
   "outputs": [],
   "source": [
    "random.shuffle(processed_corpus)"
   ]
  },
  {
   "cell_type": "code",
   "execution_count": 27,
   "metadata": {
    "executionInfo": {
     "elapsed": 954,
     "status": "ok",
     "timestamp": 1605116804913,
     "user": {
      "displayName": "Anna Polyanskaya",
      "photoUrl": "https://lh3.googleusercontent.com/a-/AOh14GjCUYMOQt6aOB-2CITnf-qOI1gYhyk4iXet5aGw=s64",
      "userId": "11441471589656650230"
     },
     "user_tz": -180
    },
    "id": "T9EBALkYZxh2"
   },
   "outputs": [],
   "source": [
    "sub_data = processed_corpus[:100000]"
   ]
  },
  {
   "cell_type": "code",
   "execution_count": 35,
   "metadata": {
    "executionInfo": {
     "elapsed": 1453,
     "status": "ok",
     "timestamp": 1605116903398,
     "user": {
      "displayName": "Anna Polyanskaya",
      "photoUrl": "https://lh3.googleusercontent.com/a-/AOh14GjCUYMOQt6aOB-2CITnf-qOI1gYhyk4iXet5aGw=s64",
      "userId": "11441471589656650230"
     },
     "user_tz": -180
    },
    "id": "JfJP8Q3Ua2yt"
   },
   "outputs": [],
   "source": [
    "with open('/content/processed_corpus.json', 'w') as f:\n",
    "    json.dump(sub_data, f, ensure_ascii=False)"
   ]
  },
  {
   "cell_type": "markdown",
   "metadata": {
    "id": "f8oE5WyCkTWb"
   },
   "source": [
    "# CBOW"
   ]
  },
  {
   "cell_type": "code",
   "execution_count": 37,
   "metadata": {
    "colab": {
     "base_uri": "https://localhost:8080/"
    },
    "executionInfo": {
     "elapsed": 1520,
     "status": "ok",
     "timestamp": 1605117457981,
     "user": {
      "displayName": "Anna Polyanskaya",
      "photoUrl": "https://lh3.googleusercontent.com/a-/AOh14GjCUYMOQt6aOB-2CITnf-qOI1gYhyk4iXet5aGw=s64",
      "userId": "11441471589656650230"
     },
     "user_tz": -180
    },
    "id": "ODh81nnZc7dg",
    "outputId": "68e63f55-f218-44e5-d504-3b2785484d66"
   },
   "outputs": [
    {
     "name": "stdout",
     "output_type": "stream",
     "text": [
      "--2020-11-11 17:57:36--  https://raw.githubusercontent.com/polyankaglade/networks_2020/main/HW2/processed_corpus.json\n",
      "Resolving raw.githubusercontent.com (raw.githubusercontent.com)... 151.101.0.133, 151.101.64.133, 151.101.128.133, ...\n",
      "Connecting to raw.githubusercontent.com (raw.githubusercontent.com)|151.101.0.133|:443... connected.\n",
      "HTTP request sent, awaiting response... 200 OK\n",
      "Length: 15909694 (15M) [text/plain]\n",
      "Saving to: ‘processed_corpus.json’\n",
      "\n",
      "processed_corpus.js 100%[===================>]  15.17M  24.2MB/s    in 0.6s    \n",
      "\n",
      "2020-11-11 17:57:37 (24.2 MB/s) - ‘processed_corpus.json’ saved [15909694/15909694]\n",
      "\n"
     ]
    }
   ],
   "source": [
    "!wget https://raw.githubusercontent.com/polyankaglade/networks_2020/main/HW2/processed_corpus.json"
   ]
  },
  {
   "cell_type": "code",
   "execution_count": 38,
   "metadata": {
    "executionInfo": {
     "elapsed": 1536,
     "status": "ok",
     "timestamp": 1605117469319,
     "user": {
      "displayName": "Anna Polyanskaya",
      "photoUrl": "https://lh3.googleusercontent.com/a-/AOh14GjCUYMOQt6aOB-2CITnf-qOI1gYhyk4iXet5aGw=s64",
      "userId": "11441471589656650230"
     },
     "user_tz": -180
    },
    "id": "spNIVzKJdCn5"
   },
   "outputs": [],
   "source": [
    "with open('/content/processed_corpus.json') as f: \n",
    "    corpus = json.load(f)"
   ]
  },
  {
   "cell_type": "markdown",
   "metadata": {
    "id": "ULBbmgcbkTWk"
   },
   "source": [
    "# Реализуйте разделение предложения на примеры методом CBOW"
   ]
  },
  {
   "cell_type": "code",
   "execution_count": 17,
   "metadata": {},
   "outputs": [],
   "source": [
    "with open('processed_corpus.json', encoding='utf-8') as f: \n",
    "    corpus = json.load(f)"
   ]
  },
  {
   "cell_type": "code",
   "execution_count": 18,
   "metadata": {
    "executionInfo": {
     "elapsed": 650,
     "status": "ok",
     "timestamp": 1605117475481,
     "user": {
      "displayName": "Anna Polyanskaya",
      "photoUrl": "https://lh3.googleusercontent.com/a-/AOh14GjCUYMOQt6aOB-2CITnf-qOI1gYhyk4iXet5aGw=s64",
      "userId": "11441471589656650230"
     },
     "user_tz": -180
    },
    "id": "DMkwg-ujkTWb"
   },
   "outputs": [],
   "source": [
    "sample_text = corpus[1]"
   ]
  },
  {
   "cell_type": "code",
   "execution_count": 19,
   "metadata": {
    "colab": {
     "base_uri": "https://localhost:8080/",
     "height": 35
    },
    "executionInfo": {
     "elapsed": 642,
     "status": "ok",
     "timestamp": 1605117476862,
     "user": {
      "displayName": "Anna Polyanskaya",
      "photoUrl": "https://lh3.googleusercontent.com/a-/AOh14GjCUYMOQt6aOB-2CITnf-qOI1gYhyk4iXet5aGw=s64",
      "userId": "11441471589656650230"
     },
     "user_tz": -180
    },
    "id": "BNAmPK3DkTWg",
    "outputId": "7cf6309d-8a3d-4e30-84c7-36f85ddfad01"
   },
   "outputs": [
    {
     "data": {
      "text/plain": [
       "'яндекс такси всё понятно непонятно почему такой организация существовать'"
      ]
     },
     "execution_count": 19,
     "metadata": {},
     "output_type": "execute_result"
    }
   ],
   "source": [
    "' '.join(sample_text)"
   ]
  },
  {
   "cell_type": "code",
   "execution_count": 20,
   "metadata": {
    "executionInfo": {
     "elapsed": 646,
     "status": "ok",
     "timestamp": 1605117482394,
     "user": {
      "displayName": "Anna Polyanskaya",
      "photoUrl": "https://lh3.googleusercontent.com/a-/AOh14GjCUYMOQt6aOB-2CITnf-qOI1gYhyk4iXet5aGw=s64",
      "userId": "11441471589656650230"
     },
     "user_tz": -180
    },
    "id": "0izu3kHskTWk"
   },
   "outputs": [],
   "source": [
    "def cbow_split(tokens, window, pad_token='PAD'):\n",
    "    \n",
    "    splits = []\n",
    "    \n",
    "    # CODE\n",
    "    padding = [pad_token]*window\n",
    "    full_text = padding + tokens + padding\n",
    "\n",
    "    for i, _ in enumerate(tokens):\n",
    "       left = full_text[i:i+window]\n",
    "       word = full_text[i+window]\n",
    "       right = full_text[i+window+1:i+window+1+window]\n",
    "\n",
    "       splits.append((left, word, right))\n",
    "        \n",
    "    return splits"
   ]
  },
  {
   "cell_type": "code",
   "execution_count": 21,
   "metadata": {
    "executionInfo": {
     "elapsed": 893,
     "status": "ok",
     "timestamp": 1605117483819,
     "user": {
      "displayName": "Anna Polyanskaya",
      "photoUrl": "https://lh3.googleusercontent.com/a-/AOh14GjCUYMOQt6aOB-2CITnf-qOI1gYhyk4iXet5aGw=s64",
      "userId": "11441471589656650230"
     },
     "user_tz": -180
    },
    "id": "jfbw5FKPkTWp"
   },
   "outputs": [],
   "source": [
    "splits = cbow_split(sample_text, window=2)"
   ]
  },
  {
   "cell_type": "code",
   "execution_count": 22,
   "metadata": {
    "colab": {
     "base_uri": "https://localhost:8080/"
    },
    "executionInfo": {
     "elapsed": 778,
     "status": "ok",
     "timestamp": 1605117485194,
     "user": {
      "displayName": "Anna Polyanskaya",
      "photoUrl": "https://lh3.googleusercontent.com/a-/AOh14GjCUYMOQt6aOB-2CITnf-qOI1gYhyk4iXet5aGw=s64",
      "userId": "11441471589656650230"
     },
     "user_tz": -180
    },
    "id": "Pqy2-ZSTkTWt",
    "outputId": "a58025e5-ab09-4c17-8fa2-19a6be44b1dd"
   },
   "outputs": [
    {
     "name": "stdout",
     "output_type": "stream",
     "text": [
      "Левый контекст: ['PAD', 'PAD']\n",
      "Центральное слово: яндекс\n",
      "Правый контекст: ['такси', 'всё']\n",
      "\n",
      "Левый контекст: ['PAD', 'яндекс']\n",
      "Центральное слово: такси\n",
      "Правый контекст: ['всё', 'понятно']\n",
      "\n",
      "Левый контекст: ['яндекс', 'такси']\n",
      "Центральное слово: всё\n",
      "Правый контекст: ['понятно', 'непонятно']\n",
      "\n",
      "Левый контекст: ['такси', 'всё']\n",
      "Центральное слово: понятно\n",
      "Правый контекст: ['непонятно', 'почему']\n",
      "\n",
      "Левый контекст: ['всё', 'понятно']\n",
      "Центральное слово: непонятно\n",
      "Правый контекст: ['почему', 'такой']\n",
      "\n",
      "Левый контекст: ['понятно', 'непонятно']\n",
      "Центральное слово: почему\n",
      "Правый контекст: ['такой', 'организация']\n",
      "\n",
      "Левый контекст: ['непонятно', 'почему']\n",
      "Центральное слово: такой\n",
      "Правый контекст: ['организация', 'существовать']\n",
      "\n",
      "Левый контекст: ['почему', 'такой']\n",
      "Центральное слово: организация\n",
      "Правый контекст: ['существовать', 'PAD']\n",
      "\n",
      "Левый контекст: ['такой', 'организация']\n",
      "Центральное слово: существовать\n",
      "Правый контекст: ['PAD', 'PAD']\n",
      "\n"
     ]
    }
   ],
   "source": [
    "for sample in splits:\n",
    "    print('Левый контекст:', sample[0])\n",
    "    print('Центральное слово:', sample[1])\n",
    "    print('Правый контекст:', sample[2], end='\\n\\n')"
   ]
  },
  {
   "cell_type": "code",
   "execution_count": 23,
   "metadata": {
    "colab": {
     "base_uri": "https://localhost:8080/"
    },
    "executionInfo": {
     "elapsed": 813,
     "status": "ok",
     "timestamp": 1605117487556,
     "user": {
      "displayName": "Anna Polyanskaya",
      "photoUrl": "https://lh3.googleusercontent.com/a-/AOh14GjCUYMOQt6aOB-2CITnf-qOI1gYhyk4iXet5aGw=s64",
      "userId": "11441471589656650230"
     },
     "user_tz": -180
    },
    "id": "dsR7sZwDkTWx",
    "outputId": "ea8eae1f-f97e-4452-c898-4645c1e77f8d"
   },
   "outputs": [
    {
     "data": {
      "text/plain": [
       "[(['PAD', 'PAD'], 'яндекс', ['такси', 'всё']),\n",
       " (['PAD', 'яндекс'], 'такси', ['всё', 'понятно']),\n",
       " (['яндекс', 'такси'], 'всё', ['понятно', 'непонятно']),\n",
       " (['такси', 'всё'], 'понятно', ['непонятно', 'почему']),\n",
       " (['всё', 'понятно'], 'непонятно', ['почему', 'такой']),\n",
       " (['понятно', 'непонятно'], 'почему', ['такой', 'организация']),\n",
       " (['непонятно', 'почему'], 'такой', ['организация', 'существовать']),\n",
       " (['почему', 'такой'], 'организация', ['существовать', 'PAD']),\n",
       " (['такой', 'организация'], 'существовать', ['PAD', 'PAD'])]"
      ]
     },
     "execution_count": 23,
     "metadata": {},
     "output_type": "execute_result"
    }
   ],
   "source": [
    "splits"
   ]
  },
  {
   "cell_type": "markdown",
   "metadata": {
    "id": "-3CH3y9GkTW1"
   },
   "source": [
    "# Expected\n",
    "\n",
    "```python\n",
    "[(['PAD', 'PAD'], 'вопрос', ['почему', 'например']),\n",
    " (['PAD', 'вопрос'], 'почему', ['например', 'китайский']),\n",
    " (['вопрос', 'почему'], 'например', ['китайский', 'японский']),\n",
    " (['почему', 'например'], 'китайский', ['японский', 'UNK']),\n",
    " (['например', 'китайский'], 'японский', ['UNK', 'PAD']),\n",
    " (['китайский', 'японский'], 'UNK', ['PAD', 'PAD'])]\n",
    "```"
   ]
  },
  {
   "cell_type": "code",
   "execution_count": 24,
   "metadata": {
    "colab": {
     "base_uri": "https://localhost:8080/"
    },
    "executionInfo": {
     "elapsed": 606,
     "status": "ok",
     "timestamp": 1605117492423,
     "user": {
      "displayName": "Anna Polyanskaya",
      "photoUrl": "https://lh3.googleusercontent.com/a-/AOh14GjCUYMOQt6aOB-2CITnf-qOI1gYhyk4iXet5aGw=s64",
      "userId": "11441471589656650230"
     },
     "user_tz": -180
    },
    "id": "97I1s74lkTW1",
    "outputId": "3cdd2c73-b673-4d17-a6dc-dbef99b55a14"
   },
   "outputs": [
    {
     "data": {
      "text/plain": [
       "[(['PAD', 'PAD', 'PAD'], 'яндекс', ['такси', 'всё', 'понятно']),\n",
       " (['PAD', 'PAD', 'яндекс'], 'такси', ['всё', 'понятно', 'непонятно']),\n",
       " (['PAD', 'яндекс', 'такси'], 'всё', ['понятно', 'непонятно', 'почему']),\n",
       " (['яндекс', 'такси', 'всё'], 'понятно', ['непонятно', 'почему', 'такой']),\n",
       " (['такси', 'всё', 'понятно'],\n",
       "  'непонятно',\n",
       "  ['почему', 'такой', 'организация']),\n",
       " (['всё', 'понятно', 'непонятно'],\n",
       "  'почему',\n",
       "  ['такой', 'организация', 'существовать']),\n",
       " (['понятно', 'непонятно', 'почему'],\n",
       "  'такой',\n",
       "  ['организация', 'существовать', 'PAD']),\n",
       " (['непонятно', 'почему', 'такой'],\n",
       "  'организация',\n",
       "  ['существовать', 'PAD', 'PAD']),\n",
       " (['почему', 'такой', 'организация'], 'существовать', ['PAD', 'PAD', 'PAD'])]"
      ]
     },
     "execution_count": 24,
     "metadata": {},
     "output_type": "execute_result"
    }
   ],
   "source": [
    "cbow_split(sample_text, window=3)"
   ]
  },
  {
   "cell_type": "markdown",
   "metadata": {
    "id": "Hpno9Yp6kTW5"
   },
   "source": [
    "# Expected\n",
    "\n",
    "```python\n",
    "[(['PAD', 'PAD', 'PAD'], 'вопрос', ['почему', 'например', 'китайский']),\n",
    " (['PAD', 'PAD', 'вопрос'], 'почему', ['например', 'китайский', 'японский']),\n",
    " (['PAD', 'вопрос', 'почему'], 'например', ['китайский', 'японский', 'UNK']),\n",
    " (['вопрос', 'почему', 'например'], 'китайский', ['японский', 'UNK', 'PAD']),\n",
    " (['почему', 'например', 'китайский'], 'японский', ['UNK', 'PAD', 'PAD']),\n",
    " (['например', 'китайский', 'японский'], 'UNK', ['PAD', 'PAD', 'PAD'])]\n",
    "```"
   ]
  },
  {
   "cell_type": "markdown",
   "metadata": {
    "id": "jSlrlXlXkTW6"
   },
   "source": [
    "# Skipgram"
   ]
  },
  {
   "cell_type": "code",
   "execution_count": 25,
   "metadata": {
    "colab": {
     "base_uri": "https://localhost:8080/",
     "height": 35
    },
    "executionInfo": {
     "elapsed": 614,
     "status": "ok",
     "timestamp": 1605117497993,
     "user": {
      "displayName": "Anna Polyanskaya",
      "photoUrl": "https://lh3.googleusercontent.com/a-/AOh14GjCUYMOQt6aOB-2CITnf-qOI1gYhyk4iXet5aGw=s64",
      "userId": "11441471589656650230"
     },
     "user_tz": -180
    },
    "id": "osSUM6WxkTW6",
    "outputId": "5a11dad2-c913-4422-cd4f-b3129d92496e"
   },
   "outputs": [
    {
     "data": {
      "text/plain": [
       "'яндекс такси всё понятно непонятно почему такой организация существовать'"
      ]
     },
     "execution_count": 25,
     "metadata": {},
     "output_type": "execute_result"
    }
   ],
   "source": [
    "' '.join(sample_text)"
   ]
  },
  {
   "cell_type": "markdown",
   "metadata": {
    "id": "V3_7phuxkTW-"
   },
   "source": [
    "# Реализуйте разделение предложения на примеры методом Skipgram"
   ]
  },
  {
   "cell_type": "code",
   "execution_count": 26,
   "metadata": {
    "executionInfo": {
     "elapsed": 783,
     "status": "ok",
     "timestamp": 1605117816032,
     "user": {
      "displayName": "Anna Polyanskaya",
      "photoUrl": "https://lh3.googleusercontent.com/a-/AOh14GjCUYMOQt6aOB-2CITnf-qOI1gYhyk4iXet5aGw=s64",
      "userId": "11441471589656650230"
     },
     "user_tz": -180
    },
    "id": "J4bjHm6CkTW_"
   },
   "outputs": [],
   "source": [
    "def skipgram_split(tokens, window):\n",
    "    \n",
    "    splits = []\n",
    "    \n",
    "    # CODE\n",
    "    l = len(tokens)\n",
    "    for i, word in enumerate(tokens):\n",
    "        start = max(i-window, 0)\n",
    "        end = min(i+window+1, l-1)\n",
    "\n",
    "        # while True:\n",
    "        #     try:\n",
    "        #         left = tokens[start:i]\n",
    "        #         break\n",
    "        #     except IndexError:\n",
    "        #         start += 1\n",
    "        # while True:\n",
    "        #     try:\n",
    "        #         right = tokens[i+1:end]\n",
    "        #         break\n",
    "        #     except IndexError:\n",
    "        #         end -= 1\n",
    "        \n",
    "        left = tokens[start:i]\n",
    "        right = tokens[i+1:end]\n",
    "        for context in left+right:\n",
    "            splits.append((context, word))\n",
    "    \n",
    "    return splits"
   ]
  },
  {
   "cell_type": "code",
   "execution_count": 27,
   "metadata": {
    "executionInfo": {
     "elapsed": 641,
     "status": "ok",
     "timestamp": 1605117817490,
     "user": {
      "displayName": "Anna Polyanskaya",
      "photoUrl": "https://lh3.googleusercontent.com/a-/AOh14GjCUYMOQt6aOB-2CITnf-qOI1gYhyk4iXet5aGw=s64",
      "userId": "11441471589656650230"
     },
     "user_tz": -180
    },
    "id": "qEztvD8nkTXD"
   },
   "outputs": [],
   "source": [
    "splits = skipgram_split(sample_text, window=2)"
   ]
  },
  {
   "cell_type": "code",
   "execution_count": 28,
   "metadata": {
    "colab": {
     "base_uri": "https://localhost:8080/"
    },
    "executionInfo": {
     "elapsed": 646,
     "status": "ok",
     "timestamp": 1605117820249,
     "user": {
      "displayName": "Anna Polyanskaya",
      "photoUrl": "https://lh3.googleusercontent.com/a-/AOh14GjCUYMOQt6aOB-2CITnf-qOI1gYhyk4iXet5aGw=s64",
      "userId": "11441471589656650230"
     },
     "user_tz": -180
    },
    "id": "voZ5bpg6IBZY",
    "outputId": "f7525c6c-a3cb-49bf-8a5e-af30518ab027"
   },
   "outputs": [
    {
     "data": {
      "text/plain": [
       "[('такси', 'яндекс'),\n",
       " ('всё', 'яндекс'),\n",
       " ('яндекс', 'такси'),\n",
       " ('всё', 'такси'),\n",
       " ('понятно', 'такси'),\n",
       " ('яндекс', 'всё'),\n",
       " ('такси', 'всё'),\n",
       " ('понятно', 'всё'),\n",
       " ('непонятно', 'всё'),\n",
       " ('такси', 'понятно'),\n",
       " ('всё', 'понятно'),\n",
       " ('непонятно', 'понятно'),\n",
       " ('почему', 'понятно'),\n",
       " ('всё', 'непонятно'),\n",
       " ('понятно', 'непонятно'),\n",
       " ('почему', 'непонятно'),\n",
       " ('такой', 'непонятно'),\n",
       " ('понятно', 'почему'),\n",
       " ('непонятно', 'почему'),\n",
       " ('такой', 'почему'),\n",
       " ('организация', 'почему'),\n",
       " ('непонятно', 'такой'),\n",
       " ('почему', 'такой'),\n",
       " ('организация', 'такой'),\n",
       " ('почему', 'организация'),\n",
       " ('такой', 'организация'),\n",
       " ('такой', 'существовать'),\n",
       " ('организация', 'существовать')]"
      ]
     },
     "execution_count": 28,
     "metadata": {},
     "output_type": "execute_result"
    }
   ],
   "source": [
    "splits"
   ]
  },
  {
   "cell_type": "code",
   "execution_count": 29,
   "metadata": {
    "colab": {
     "base_uri": "https://localhost:8080/"
    },
    "executionInfo": {
     "elapsed": 622,
     "status": "ok",
     "timestamp": 1605117832534,
     "user": {
      "displayName": "Anna Polyanskaya",
      "photoUrl": "https://lh3.googleusercontent.com/a-/AOh14GjCUYMOQt6aOB-2CITnf-qOI1gYhyk4iXet5aGw=s64",
      "userId": "11441471589656650230"
     },
     "user_tz": -180
    },
    "id": "gQL9U_nskTXH",
    "outputId": "ea7d7bb9-8f83-40f8-b3d7-d5e5ba841eed"
   },
   "outputs": [
    {
     "name": "stdout",
     "output_type": "stream",
     "text": [
      "Контекст: такси\n",
      "Центральное слово: яндекс\n",
      "\n",
      "Контекст: всё\n",
      "Центральное слово: яндекс\n",
      "\n",
      "Контекст: яндекс\n",
      "Центральное слово: такси\n",
      "\n",
      "Контекст: всё\n",
      "Центральное слово: такси\n",
      "\n",
      "Контекст: понятно\n",
      "Центральное слово: такси\n",
      "\n",
      "Контекст: яндекс\n",
      "Центральное слово: всё\n",
      "\n",
      "Контекст: такси\n",
      "Центральное слово: всё\n",
      "\n",
      "Контекст: понятно\n",
      "Центральное слово: всё\n",
      "\n",
      "Контекст: непонятно\n",
      "Центральное слово: всё\n",
      "\n",
      "Контекст: такси\n",
      "Центральное слово: понятно\n",
      "\n",
      "Контекст: всё\n",
      "Центральное слово: понятно\n",
      "\n",
      "Контекст: непонятно\n",
      "Центральное слово: понятно\n",
      "\n",
      "Контекст: почему\n",
      "Центральное слово: понятно\n",
      "\n",
      "Контекст: всё\n",
      "Центральное слово: непонятно\n",
      "\n",
      "Контекст: понятно\n",
      "Центральное слово: непонятно\n",
      "\n",
      "Контекст: почему\n",
      "Центральное слово: непонятно\n",
      "\n",
      "Контекст: такой\n",
      "Центральное слово: непонятно\n",
      "\n",
      "Контекст: понятно\n",
      "Центральное слово: почему\n",
      "\n",
      "Контекст: непонятно\n",
      "Центральное слово: почему\n",
      "\n",
      "Контекст: такой\n",
      "Центральное слово: почему\n",
      "\n",
      "Контекст: организация\n",
      "Центральное слово: почему\n",
      "\n",
      "Контекст: непонятно\n",
      "Центральное слово: такой\n",
      "\n",
      "Контекст: почему\n",
      "Центральное слово: такой\n",
      "\n",
      "Контекст: организация\n",
      "Центральное слово: такой\n",
      "\n",
      "Контекст: почему\n",
      "Центральное слово: организация\n",
      "\n",
      "Контекст: такой\n",
      "Центральное слово: организация\n",
      "\n",
      "Контекст: такой\n",
      "Центральное слово: существовать\n",
      "\n",
      "Контекст: организация\n",
      "Центральное слово: существовать\n",
      "\n"
     ]
    }
   ],
   "source": [
    "for sample in splits:\n",
    "    print('Контекст:', sample[0])\n",
    "    print('Центральное слово:', sample[1], end='\\n\\n')"
   ]
  },
  {
   "cell_type": "markdown",
   "metadata": {
    "id": "9RDu4YY6kTXO"
   },
   "source": [
    "# Expected\n",
    "\n",
    "```python\n",
    "[('почему', 'вопрос'),\n",
    " ('например', 'вопрос'),\n",
    " ('вопрос', 'почему'),\n",
    " ('например', 'почему'),\n",
    " ('китайский', 'почему'),\n",
    " ('вопрос', 'например'),\n",
    " ('почему', 'например'),\n",
    " ('китайский', 'например'),\n",
    " ('японский', 'например'),\n",
    " ('почему', 'китайский'),\n",
    " ('например', 'китайский'),\n",
    " ('японский', 'китайский'),\n",
    " ('UNK', 'китайский'),\n",
    " ('например', 'японский'),\n",
    " ('китайский', 'японский'),\n",
    " ('UNK', 'японский'),\n",
    " ('китайский', 'UNK'),\n",
    " ('японский', 'UNK')]\n",
    "```"
   ]
  },
  {
   "cell_type": "code",
   "execution_count": 30,
   "metadata": {
    "colab": {
     "base_uri": "https://localhost:8080/"
    },
    "executionInfo": {
     "elapsed": 673,
     "status": "ok",
     "timestamp": 1605117837169,
     "user": {
      "displayName": "Anna Polyanskaya",
      "photoUrl": "https://lh3.googleusercontent.com/a-/AOh14GjCUYMOQt6aOB-2CITnf-qOI1gYhyk4iXet5aGw=s64",
      "userId": "11441471589656650230"
     },
     "user_tz": -180
    },
    "id": "At7kL_7HkTXP",
    "outputId": "8a8754e4-14cf-4678-a339-bcfe9b86ab40"
   },
   "outputs": [
    {
     "data": {
      "text/plain": [
       "[('такси', 'яндекс'),\n",
       " ('всё', 'яндекс'),\n",
       " ('понятно', 'яндекс'),\n",
       " ('яндекс', 'такси'),\n",
       " ('всё', 'такси'),\n",
       " ('понятно', 'такси'),\n",
       " ('непонятно', 'такси'),\n",
       " ('яндекс', 'всё'),\n",
       " ('такси', 'всё'),\n",
       " ('понятно', 'всё'),\n",
       " ('непонятно', 'всё'),\n",
       " ('почему', 'всё'),\n",
       " ('яндекс', 'понятно'),\n",
       " ('такси', 'понятно'),\n",
       " ('всё', 'понятно'),\n",
       " ('непонятно', 'понятно'),\n",
       " ('почему', 'понятно'),\n",
       " ('такой', 'понятно'),\n",
       " ('такси', 'непонятно'),\n",
       " ('всё', 'непонятно'),\n",
       " ('понятно', 'непонятно'),\n",
       " ('почему', 'непонятно'),\n",
       " ('такой', 'непонятно'),\n",
       " ('организация', 'непонятно'),\n",
       " ('всё', 'почему'),\n",
       " ('понятно', 'почему'),\n",
       " ('непонятно', 'почему'),\n",
       " ('такой', 'почему'),\n",
       " ('организация', 'почему'),\n",
       " ('понятно', 'такой'),\n",
       " ('непонятно', 'такой'),\n",
       " ('почему', 'такой'),\n",
       " ('организация', 'такой'),\n",
       " ('непонятно', 'организация'),\n",
       " ('почему', 'организация'),\n",
       " ('такой', 'организация'),\n",
       " ('почему', 'существовать'),\n",
       " ('такой', 'существовать'),\n",
       " ('организация', 'существовать')]"
      ]
     },
     "execution_count": 30,
     "metadata": {},
     "output_type": "execute_result"
    }
   ],
   "source": [
    "skipgram_split(sample_text, window=3)"
   ]
  },
  {
   "cell_type": "markdown",
   "metadata": {
    "id": "hfp9CaQtkTXT"
   },
   "source": [
    "# Expected\n",
    "\n",
    "```python\n",
    "[('почему', 'вопрос'),\n",
    " ('например', 'вопрос'),\n",
    " ('китайский', 'вопрос'),\n",
    " ('вопрос', 'почему'),\n",
    " ('например', 'почему'),\n",
    " ('китайский', 'почему'),\n",
    " ('японский', 'почему'),\n",
    " ('вопрос', 'например'),\n",
    " ('почему', 'например'),\n",
    " ('китайский', 'например'),\n",
    " ('японский', 'например'),\n",
    " ('UNK', 'например'),\n",
    " ('вопрос', 'китайский'),\n",
    " ('почему', 'китайский'),\n",
    " ('например', 'китайский'),\n",
    " ('японский', 'китайский'),\n",
    " ('UNK', 'китайский'),\n",
    " ('почему', 'японский'),\n",
    " ('например', 'японский'),\n",
    " ('китайский', 'японский'),\n",
    " ('UNK', 'японский'),\n",
    " ('например', 'UNK'),\n",
    " ('китайский', 'UNK'),\n",
    " ('японский', 'UNK')]\n",
    "```"
   ]
  },
  {
   "cell_type": "code",
   "execution_count": 31,
   "metadata": {
    "executionInfo": {
     "elapsed": 596,
     "status": "ok",
     "timestamp": 1605118775722,
     "user": {
      "displayName": "Anna Polyanskaya",
      "photoUrl": "https://lh3.googleusercontent.com/a-/AOh14GjCUYMOQt6aOB-2CITnf-qOI1gYhyk4iXet5aGw=s64",
      "userId": "11441471589656650230"
     },
     "user_tz": -180
    },
    "id": "O3pfcn5dkTXU"
   },
   "outputs": [],
   "source": [
    "word2index = {}\n",
    "\n",
    "for text in corpus:\n",
    "    for token in text:\n",
    "        if token not in word2index:\n",
    "            word2index[token] = len(word2index)"
   ]
  },
  {
   "cell_type": "code",
   "execution_count": 32,
   "metadata": {
    "colab": {
     "base_uri": "https://localhost:8080/"
    },
    "executionInfo": {
     "elapsed": 740,
     "status": "ok",
     "timestamp": 1605118790112,
     "user": {
      "displayName": "Anna Polyanskaya",
      "photoUrl": "https://lh3.googleusercontent.com/a-/AOh14GjCUYMOQt6aOB-2CITnf-qOI1gYhyk4iXet5aGw=s64",
      "userId": "11441471589656650230"
     },
     "user_tz": -180
    },
    "id": "xm-zOLeUkTXY",
    "outputId": "ae60fb47-4c23-4762-e7b7-3b8efa6330f0"
   },
   "outputs": [
    {
     "data": {
      "text/plain": [
       "13038"
      ]
     },
     "execution_count": 32,
     "metadata": {},
     "output_type": "execute_result"
    }
   ],
   "source": [
    "len(word2index)"
   ]
  },
  {
   "cell_type": "code",
   "execution_count": 33,
   "metadata": {
    "colab": {
     "base_uri": "https://localhost:8080/"
    },
    "executionInfo": {
     "elapsed": 785,
     "status": "ok",
     "timestamp": 1605118805263,
     "user": {
      "displayName": "Anna Polyanskaya",
      "photoUrl": "https://lh3.googleusercontent.com/a-/AOh14GjCUYMOQt6aOB-2CITnf-qOI1gYhyk4iXet5aGw=s64",
      "userId": "11441471589656650230"
     },
     "user_tz": -180
    },
    "id": "UT5E3pOUkTXb",
    "outputId": "09398bbc-879b-41cb-eeba-1ac520f39f6e"
   },
   "outputs": [
    {
     "data": {
      "text/plain": [
       "21"
      ]
     },
     "execution_count": 33,
     "metadata": {},
     "output_type": "execute_result"
    }
   ],
   "source": [
    "word2index['UNK']"
   ]
  },
  {
   "cell_type": "code",
   "execution_count": 34,
   "metadata": {
    "colab": {
     "base_uri": "https://localhost:8080/"
    },
    "executionInfo": {
     "elapsed": 632,
     "status": "ok",
     "timestamp": 1605118808445,
     "user": {
      "displayName": "Anna Polyanskaya",
      "photoUrl": "https://lh3.googleusercontent.com/a-/AOh14GjCUYMOQt6aOB-2CITnf-qOI1gYhyk4iXet5aGw=s64",
      "userId": "11441471589656650230"
     },
     "user_tz": -180
    },
    "id": "YHAkdLurkTXf",
    "outputId": "dc3adf4f-e947-4ce4-c46e-8672bea09849"
   },
   "outputs": [
    {
     "data": {
      "text/plain": [
       "[2479, 8477, 21]"
      ]
     },
     "execution_count": 34,
     "metadata": {},
     "output_type": "execute_result"
    }
   ],
   "source": [
    "[word2index[tok] if tok in word2index else word2index['UNK'] for tok in 'мама мыть рама'.split()]"
   ]
  },
  {
   "cell_type": "markdown",
   "metadata": {
    "id": "_1w0F-C1kTXj"
   },
   "source": [
    "# Torch Dataset\n",
    "В торче есть очень удобная читалка данных"
   ]
  },
  {
   "cell_type": "code",
   "execution_count": 35,
   "metadata": {
    "executionInfo": {
     "elapsed": 816,
     "status": "ok",
     "timestamp": 1605118187266,
     "user": {
      "displayName": "Anna Polyanskaya",
      "photoUrl": "https://lh3.googleusercontent.com/a-/AOh14GjCUYMOQt6aOB-2CITnf-qOI1gYhyk4iXet5aGw=s64",
      "userId": "11441471589656650230"
     },
     "user_tz": -180
    },
    "id": "CkansRmykTXm"
   },
   "outputs": [],
   "source": [
    "from torch.utils.data import Dataset, DataLoader"
   ]
  },
  {
   "cell_type": "code",
   "execution_count": 36,
   "metadata": {
    "executionInfo": {
     "elapsed": 499,
     "status": "ok",
     "timestamp": 1605118187267,
     "user": {
      "displayName": "Anna Polyanskaya",
      "photoUrl": "https://lh3.googleusercontent.com/a-/AOh14GjCUYMOQt6aOB-2CITnf-qOI1gYhyk4iXet5aGw=s64",
      "userId": "11441471589656650230"
     },
     "user_tz": -180
    },
    "id": "04F_lm3YkTXr"
   },
   "outputs": [],
   "source": [
    "# игрушечный датасет\n",
    "# 121535 примера, 4 фичи, 3 класса\n",
    "some_data_x = np.random.rand(121535, 4)\n",
    "some_data_y = np.random.randint(3, size=(121535,))"
   ]
  },
  {
   "cell_type": "code",
   "execution_count": 37,
   "metadata": {
    "colab": {
     "base_uri": "https://localhost:8080/"
    },
    "executionInfo": {
     "elapsed": 655,
     "status": "ok",
     "timestamp": 1605118187787,
     "user": {
      "displayName": "Anna Polyanskaya",
      "photoUrl": "https://lh3.googleusercontent.com/a-/AOh14GjCUYMOQt6aOB-2CITnf-qOI1gYhyk4iXet5aGw=s64",
      "userId": "11441471589656650230"
     },
     "user_tz": -180
    },
    "id": "6y86Ic6QkTXx",
    "outputId": "fd6cc8b8-91b8-4ec0-dd0e-5251f51ea507"
   },
   "outputs": [
    {
     "data": {
      "text/plain": [
       "array([[0.48865125, 0.57598784, 0.803654  , 0.97313404],\n",
       "       [0.40928422, 0.75809782, 0.39248033, 0.60604954],\n",
       "       [0.58260856, 0.03415962, 0.90909636, 0.53672591],\n",
       "       [0.57237912, 0.99284002, 0.63788297, 0.72827724],\n",
       "       [0.8448034 , 0.82413802, 0.3357151 , 0.79510248],\n",
       "       [0.56067836, 0.62673416, 0.14338405, 0.62978163],\n",
       "       [0.72131354, 0.69808182, 0.2782476 , 0.36004135],\n",
       "       [0.56516142, 0.68513805, 0.36857986, 0.28762641],\n",
       "       [0.23665928, 0.17268541, 0.68745176, 0.70702136],\n",
       "       [0.29370406, 0.1007655 , 0.13350264, 0.87464599]])"
      ]
     },
     "execution_count": 37,
     "metadata": {},
     "output_type": "execute_result"
    }
   ],
   "source": [
    "# соверешенно игрушечный, просто цифры\n",
    "some_data_x[:10]"
   ]
  },
  {
   "cell_type": "code",
   "execution_count": 38,
   "metadata": {
    "colab": {
     "base_uri": "https://localhost:8080/"
    },
    "executionInfo": {
     "elapsed": 534,
     "status": "ok",
     "timestamp": 1605118188794,
     "user": {
      "displayName": "Anna Polyanskaya",
      "photoUrl": "https://lh3.googleusercontent.com/a-/AOh14GjCUYMOQt6aOB-2CITnf-qOI1gYhyk4iXet5aGw=s64",
      "userId": "11441471589656650230"
     },
     "user_tz": -180
    },
    "id": "9a_x9NahkTX1",
    "outputId": "fce5dedb-c451-4081-d3b3-506426e59bf5"
   },
   "outputs": [
    {
     "data": {
      "text/plain": [
       "array([1, 2, 2, ..., 0, 1, 0])"
      ]
     },
     "execution_count": 38,
     "metadata": {},
     "output_type": "execute_result"
    }
   ],
   "source": [
    "some_data_y"
   ]
  },
  {
   "cell_type": "code",
   "execution_count": 39,
   "metadata": {
    "executionInfo": {
     "elapsed": 492,
     "status": "ok",
     "timestamp": 1605118189208,
     "user": {
      "displayName": "Anna Polyanskaya",
      "photoUrl": "https://lh3.googleusercontent.com/a-/AOh14GjCUYMOQt6aOB-2CITnf-qOI1gYhyk4iXet5aGw=s64",
      "userId": "11441471589656650230"
     },
     "user_tz": -180
    },
    "id": "xDl5Lv2zkTX6"
   },
   "outputs": [],
   "source": [
    "class ToyDataset(Dataset):\n",
    "    \n",
    "    def __init__(self, data_x, data_y):\n",
    "        \n",
    "        super().__init__()\n",
    "        \n",
    "        self.data_x = data_x\n",
    "        self.data_y = data_y\n",
    "        \n",
    "    def __len__(self):\n",
    "        \n",
    "        # Нужно обязательно определить эту функцию\n",
    "        # Должна возвращать размер датасета\n",
    "        \n",
    "        return len(self.data_x)\n",
    "    \n",
    "    def __getitem__(self, idx):\n",
    "        \n",
    "        # Еще нужно определить этот метод\n",
    "        # То есть как мы будем доставать наши данные по индексу\n",
    "        \n",
    "        return self.data_x[idx], self.data_y[idx]"
   ]
  },
  {
   "cell_type": "code",
   "execution_count": 40,
   "metadata": {
    "executionInfo": {
     "elapsed": 673,
     "status": "ok",
     "timestamp": 1605118189828,
     "user": {
      "displayName": "Anna Polyanskaya",
      "photoUrl": "https://lh3.googleusercontent.com/a-/AOh14GjCUYMOQt6aOB-2CITnf-qOI1gYhyk4iXet5aGw=s64",
      "userId": "11441471589656650230"
     },
     "user_tz": -180
    },
    "id": "xybXe8ZGkTX9"
   },
   "outputs": [],
   "source": [
    "some_dataset = ToyDataset(some_data_x, some_data_y)"
   ]
  },
  {
   "cell_type": "code",
   "execution_count": 41,
   "metadata": {
    "colab": {
     "base_uri": "https://localhost:8080/"
    },
    "executionInfo": {
     "elapsed": 501,
     "status": "ok",
     "timestamp": 1605118190100,
     "user": {
      "displayName": "Anna Polyanskaya",
      "photoUrl": "https://lh3.googleusercontent.com/a-/AOh14GjCUYMOQt6aOB-2CITnf-qOI1gYhyk4iXet5aGw=s64",
      "userId": "11441471589656650230"
     },
     "user_tz": -180
    },
    "id": "86oY9uTEkTYB",
    "outputId": "2ba11e6f-18cb-4afc-cb29-ca2a3a57c79e"
   },
   "outputs": [
    {
     "data": {
      "text/plain": [
       "((array([0.56067836, 0.62673416, 0.14338405, 0.62978163]), 1),\n",
       " (array([0.73669428, 0.78382817, 0.17647677, 0.97810057]), 2))"
      ]
     },
     "execution_count": 41,
     "metadata": {},
     "output_type": "execute_result"
    }
   ],
   "source": [
    "some_dataset[5], some_dataset[467]"
   ]
  },
  {
   "cell_type": "code",
   "execution_count": 42,
   "metadata": {
    "executionInfo": {
     "elapsed": 672,
     "status": "ok",
     "timestamp": 1605118190759,
     "user": {
      "displayName": "Anna Polyanskaya",
      "photoUrl": "https://lh3.googleusercontent.com/a-/AOh14GjCUYMOQt6aOB-2CITnf-qOI1gYhyk4iXet5aGw=s64",
      "userId": "11441471589656650230"
     },
     "user_tz": -180
    },
    "id": "X4q9RNZCkTYF"
   },
   "outputs": [],
   "source": [
    "some_loader = DataLoader(some_dataset, batch_size=16, shuffle=True)"
   ]
  },
  {
   "cell_type": "code",
   "execution_count": 43,
   "metadata": {
    "colab": {
     "base_uri": "https://localhost:8080/"
    },
    "executionInfo": {
     "elapsed": 885,
     "status": "ok",
     "timestamp": 1605118191547,
     "user": {
      "displayName": "Anna Polyanskaya",
      "photoUrl": "https://lh3.googleusercontent.com/a-/AOh14GjCUYMOQt6aOB-2CITnf-qOI1gYhyk4iXet5aGw=s64",
      "userId": "11441471589656650230"
     },
     "user_tz": -180
    },
    "id": "rUVtBaN4kTYJ",
    "outputId": "e1a369e2-ebb5-4615-8a6a-1c140079bb92"
   },
   "outputs": [
    {
     "data": {
      "text/plain": [
       "(16, tensor([[0.4612, 0.5488, 0.7611, 0.7170],\n",
       "         [0.6831, 0.7834, 0.4850, 0.0098],\n",
       "         [0.4403, 0.1787, 0.9570, 0.8703],\n",
       "         [0.9498, 0.0519, 0.2378, 0.6069],\n",
       "         [0.3192, 0.4415, 0.9666, 0.4244],\n",
       "         [0.8438, 0.6341, 0.3566, 0.8957],\n",
       "         [0.0579, 0.3872, 0.3549, 0.1598],\n",
       "         [0.1104, 0.1241, 0.2010, 0.4146],\n",
       "         [0.9629, 0.6017, 0.2616, 0.1337],\n",
       "         [0.5448, 0.6199, 0.3947, 0.0523],\n",
       "         [0.5591, 0.3032, 0.4210, 0.2846],\n",
       "         [0.8543, 0.5565, 0.2905, 0.8901],\n",
       "         [0.1801, 0.2354, 0.4420, 0.5956],\n",
       "         [0.9453, 0.9557, 0.7348, 0.0977],\n",
       "         [0.9544, 0.6626, 0.8130, 0.8396],\n",
       "         [0.0943, 0.3227, 0.6657, 0.7791]], dtype=torch.float64))"
      ]
     },
     "execution_count": 43,
     "metadata": {},
     "output_type": "execute_result"
    }
   ],
   "source": [
    "for x, y in some_loader:\n",
    "    break\n",
    "    \n",
    "len(x), x"
   ]
  },
  {
   "cell_type": "code",
   "execution_count": 44,
   "metadata": {
    "colab": {
     "base_uri": "https://localhost:8080/"
    },
    "executionInfo": {
     "elapsed": 1732,
     "status": "ok",
     "timestamp": 1605118193044,
     "user": {
      "displayName": "Anna Polyanskaya",
      "photoUrl": "https://lh3.googleusercontent.com/a-/AOh14GjCUYMOQt6aOB-2CITnf-qOI1gYhyk4iXet5aGw=s64",
      "userId": "11441471589656650230"
     },
     "user_tz": -180
    },
    "id": "PlVc5FLBkTYM",
    "outputId": "784c9ac1-93e5-44ad-f13a-fe29026ae272"
   },
   "outputs": [
    {
     "data": {
      "text/plain": [
       "15"
      ]
     },
     "execution_count": 44,
     "metadata": {},
     "output_type": "execute_result"
    }
   ],
   "source": [
    "for x, y in some_loader:\n",
    "    pass\n",
    "\n",
    "len(x)"
   ]
  },
  {
   "cell_type": "code",
   "execution_count": 45,
   "metadata": {
    "colab": {
     "base_uri": "https://localhost:8080/"
    },
    "executionInfo": {
     "elapsed": 638,
     "status": "ok",
     "timestamp": 1605118198332,
     "user": {
      "displayName": "Anna Polyanskaya",
      "photoUrl": "https://lh3.googleusercontent.com/a-/AOh14GjCUYMOQt6aOB-2CITnf-qOI1gYhyk4iXet5aGw=s64",
      "userId": "11441471589656650230"
     },
     "user_tz": -180
    },
    "id": "Q2885cnOkTYP",
    "outputId": "dfbcec05-8a2f-49c8-e6a8-b72fe6b59f4d"
   },
   "outputs": [
    {
     "data": {
      "text/plain": [
       "15"
      ]
     },
     "execution_count": 45,
     "metadata": {},
     "output_type": "execute_result"
    }
   ],
   "source": [
    "# почему 13?\n",
    "# потому что количество наших данных нацело не делится на 16\n",
    "# и поэтому последний батч меньше 16-ти\n",
    "len(some_dataset) % 16"
   ]
  },
  {
   "cell_type": "markdown",
   "metadata": {
    "id": "G8POTCsNkTYS"
   },
   "source": [
    "# А зачем?"
   ]
  },
  {
   "cell_type": "code",
   "execution_count": 46,
   "metadata": {
    "executionInfo": {
     "elapsed": 593,
     "status": "ok",
     "timestamp": 1605118207438,
     "user": {
      "displayName": "Anna Polyanskaya",
      "photoUrl": "https://lh3.googleusercontent.com/a-/AOh14GjCUYMOQt6aOB-2CITnf-qOI1gYhyk4iXet5aGw=s64",
      "userId": "11441471589656650230"
     },
     "user_tz": -180
    },
    "id": "H6lbzOzpkTYT"
   },
   "outputs": [],
   "source": [
    "class ToyDataset(Dataset):\n",
    "    \n",
    "    def __init__(self, data_x, data_y):\n",
    "        \n",
    "        super().__init__()\n",
    "        \n",
    "        self.data_x = data_x\n",
    "        self.data_y = data_y\n",
    "        \n",
    "    def __len__(self):\n",
    "        \n",
    "        # Нужно обязательно определить эту функцию\n",
    "        # Должна возвращать размер датасета\n",
    "        \n",
    "        return len(self.data_x)\n",
    "    \n",
    "    @staticmethod\n",
    "    def add_pow_features(x, n=2):\n",
    "        \n",
    "        return np.concatenate([x, x ** n]) \n",
    "    \n",
    "    @staticmethod\n",
    "    def add_log_features(x):\n",
    "        \n",
    "        return np.concatenate([x, np.log(x)]) \n",
    "    \n",
    "    def __getitem__(self, idx):\n",
    "        \n",
    "        # Еще нужно определить этот метод\n",
    "        # То есть как мы будем доставать наши данные по индексу\n",
    "        \n",
    "        x = self.data_x[idx]\n",
    "        \n",
    "        # внутри датасета мы можем делать все что угодно с нашими данными\n",
    "        # например выше определим функции, которые добавляют степенные фичи\n",
    "        x = self.add_pow_features(x, n=2)\n",
    "        x = self.add_pow_features(x, n=3)\n",
    "        # и еще возьмем логарифмические фичи\n",
    "        x = self.add_log_features(x)\n",
    "        \n",
    "        y = self.data_y[idx]\n",
    "        \n",
    "        return x, y"
   ]
  },
  {
   "cell_type": "code",
   "execution_count": 47,
   "metadata": {
    "executionInfo": {
     "elapsed": 584,
     "status": "ok",
     "timestamp": 1605118207669,
     "user": {
      "displayName": "Anna Polyanskaya",
      "photoUrl": "https://lh3.googleusercontent.com/a-/AOh14GjCUYMOQt6aOB-2CITnf-qOI1gYhyk4iXet5aGw=s64",
      "userId": "11441471589656650230"
     },
     "user_tz": -180
    },
    "id": "8QM3ZeEdkTYW"
   },
   "outputs": [],
   "source": [
    "toy_dataset = ToyDataset(some_data_x, some_data_y)"
   ]
  },
  {
   "cell_type": "code",
   "execution_count": 48,
   "metadata": {
    "executionInfo": {
     "elapsed": 457,
     "status": "ok",
     "timestamp": 1605118207935,
     "user": {
      "displayName": "Anna Polyanskaya",
      "photoUrl": "https://lh3.googleusercontent.com/a-/AOh14GjCUYMOQt6aOB-2CITnf-qOI1gYhyk4iXet5aGw=s64",
      "userId": "11441471589656650230"
     },
     "user_tz": -180
    },
    "id": "u-AEY1ajkTYZ"
   },
   "outputs": [],
   "source": [
    "toy_loader = DataLoader(dataset=toy_dataset, batch_size=128)"
   ]
  },
  {
   "cell_type": "code",
   "execution_count": 49,
   "metadata": {
    "executionInfo": {
     "elapsed": 432,
     "status": "ok",
     "timestamp": 1605118208290,
     "user": {
      "displayName": "Anna Polyanskaya",
      "photoUrl": "https://lh3.googleusercontent.com/a-/AOh14GjCUYMOQt6aOB-2CITnf-qOI1gYhyk4iXet5aGw=s64",
      "userId": "11441471589656650230"
     },
     "user_tz": -180
    },
    "id": "ixcU4Dn_kTYc"
   },
   "outputs": [],
   "source": [
    "for x, y in toy_loader:\n",
    "    break"
   ]
  },
  {
   "cell_type": "code",
   "execution_count": 50,
   "metadata": {
    "colab": {
     "base_uri": "https://localhost:8080/"
    },
    "executionInfo": {
     "elapsed": 606,
     "status": "ok",
     "timestamp": 1605118209124,
     "user": {
      "displayName": "Anna Polyanskaya",
      "photoUrl": "https://lh3.googleusercontent.com/a-/AOh14GjCUYMOQt6aOB-2CITnf-qOI1gYhyk4iXet5aGw=s64",
      "userId": "11441471589656650230"
     },
     "user_tz": -180
    },
    "id": "YBxK5bnckTYf",
    "outputId": "20d986b3-9ae3-4d7b-b8c1-bc93306849ef"
   },
   "outputs": [
    {
     "data": {
      "text/plain": [
       "torch.Size([128, 32])"
      ]
     },
     "execution_count": 50,
     "metadata": {},
     "output_type": "execute_result"
    }
   ],
   "source": [
    "x.shape"
   ]
  },
  {
   "cell_type": "code",
   "execution_count": 51,
   "metadata": {
    "colab": {
     "base_uri": "https://localhost:8080/"
    },
    "executionInfo": {
     "elapsed": 636,
     "status": "ok",
     "timestamp": 1605118210918,
     "user": {
      "displayName": "Anna Polyanskaya",
      "photoUrl": "https://lh3.googleusercontent.com/a-/AOh14GjCUYMOQt6aOB-2CITnf-qOI1gYhyk4iXet5aGw=s64",
      "userId": "11441471589656650230"
     },
     "user_tz": -180
    },
    "id": "heSm2QmskTYj",
    "outputId": "910136d3-ec88-430c-b9ec-a1c6e9cd2f6f"
   },
   "outputs": [
    {
     "data": {
      "text/plain": [
       "tensor([[  0.4887,   0.5760,   0.8037,  ...,  -3.3100,  -1.3115,  -0.1634],\n",
       "        [  0.4093,   0.7581,   0.3925,  ...,  -1.6617,  -5.6116,  -3.0048],\n",
       "        [  0.5826,   0.0342,   0.9091,  ..., -20.2603,  -0.5718,  -3.7336],\n",
       "        ...,\n",
       "        [  0.3427,   0.9625,   0.9692,  ...,  -0.2295,  -0.1878,  -8.8491],\n",
       "        [  0.6737,   0.3505,   0.4386,  ...,  -6.2902,  -4.9453,  -2.4675],\n",
       "        [  0.0452,   0.9798,   0.6172,  ...,  -0.1224,  -2.8952,  -0.3265]],\n",
       "       dtype=torch.float64)"
      ]
     },
     "execution_count": 51,
     "metadata": {},
     "output_type": "execute_result"
    }
   ],
   "source": [
    "# заметим, что мы сразу получаем торчовый формат данных\n",
    "x"
   ]
  },
  {
   "cell_type": "code",
   "execution_count": 52,
   "metadata": {
    "colab": {
     "base_uri": "https://localhost:8080/"
    },
    "executionInfo": {
     "elapsed": 660,
     "status": "ok",
     "timestamp": 1605118212769,
     "user": {
      "displayName": "Anna Polyanskaya",
      "photoUrl": "https://lh3.googleusercontent.com/a-/AOh14GjCUYMOQt6aOB-2CITnf-qOI1gYhyk4iXet5aGw=s64",
      "userId": "11441471589656650230"
     },
     "user_tz": -180
    },
    "id": "K0FCGsJpkTYn",
    "outputId": "d8fb906a-c8c1-407b-dfa4-26c6d7d44831"
   },
   "outputs": [
    {
     "data": {
      "text/plain": [
       "tensor([1, 2, 2, 2, 2, 1, 1, 1, 1, 1, 1, 2, 2, 2, 1, 1, 1, 2, 0, 1, 0, 2, 0, 2,\n",
       "        2, 2, 2, 1, 2, 1, 2, 1, 0, 2, 0, 1, 0, 1, 1, 1, 0, 0, 2, 1, 0, 0, 2, 2,\n",
       "        2, 2, 1, 1, 1, 0, 2, 0, 1, 2, 2, 1, 2, 0, 1, 2, 0, 0, 1, 2, 2, 1, 0, 1,\n",
       "        0, 1, 0, 1, 0, 0, 0, 0, 0, 1, 1, 2, 0, 0, 0, 1, 2, 1, 0, 1, 1, 0, 2, 1,\n",
       "        2, 2, 0, 1, 0, 0, 1, 1, 2, 1, 1, 1, 2, 0, 1, 0, 1, 1, 2, 1, 2, 0, 0, 1,\n",
       "        2, 1, 0, 2, 0, 1, 2, 1], dtype=torch.int32)"
      ]
     },
     "execution_count": 52,
     "metadata": {},
     "output_type": "execute_result"
    }
   ],
   "source": [
    "y"
   ]
  },
  {
   "cell_type": "markdown",
   "metadata": {
    "id": "I9ZUYaUxkTYq"
   },
   "source": [
    "# Если вы ничего здесь не понимаете, то вернитесь в конец первой домашки, там все объясняется"
   ]
  },
  {
   "cell_type": "code",
   "execution_count": 53,
   "metadata": {
    "executionInfo": {
     "elapsed": 841,
     "status": "ok",
     "timestamp": 1605118217834,
     "user": {
      "displayName": "Anna Polyanskaya",
      "photoUrl": "https://lh3.googleusercontent.com/a-/AOh14GjCUYMOQt6aOB-2CITnf-qOI1gYhyk4iXet5aGw=s64",
      "userId": "11441471589656650230"
     },
     "user_tz": -180
    },
    "id": "nhBcVgWgkTYr"
   },
   "outputs": [],
   "source": [
    "model = torch.nn.Sequential(torch.nn.Linear(32, 16),\n",
    "                            torch.nn.ReLU(),\n",
    "                            torch.nn.Linear(16, 8),\n",
    "                            torch.nn.ReLU(),\n",
    "                            torch.nn.Linear(8, 3))\n",
    "\n",
    "criterion = torch.nn.CrossEntropyLoss()"
   ]
  },
  {
   "cell_type": "code",
   "execution_count": 55,
   "metadata": {
    "colab": {
     "base_uri": "https://localhost:8080/"
    },
    "executionInfo": {
     "elapsed": 600,
     "status": "ok",
     "timestamp": 1605118219238,
     "user": {
      "displayName": "Anna Polyanskaya",
      "photoUrl": "https://lh3.googleusercontent.com/a-/AOh14GjCUYMOQt6aOB-2CITnf-qOI1gYhyk4iXet5aGw=s64",
      "userId": "11441471589656650230"
     },
     "user_tz": -180
    },
    "id": "Z-5KYkmbkTYu",
    "outputId": "652a2919-e9ae-426f-821f-f31fceb02d2a"
   },
   "outputs": [
    {
     "data": {
      "text/plain": [
       "1.1383029222488403"
      ]
     },
     "execution_count": 55,
     "metadata": {},
     "output_type": "execute_result"
    }
   ],
   "source": [
    "with torch.no_grad():\n",
    "\n",
    "    prediction = model(x.float())\n",
    "\n",
    "    loss = criterion(prediction, y.long())\n",
    "    \n",
    "loss.item()"
   ]
  },
  {
   "cell_type": "markdown",
   "metadata": {
    "id": "uSWRn79JkTYx"
   },
   "source": [
    "# Боевые датасеты"
   ]
  },
  {
   "cell_type": "code",
   "execution_count": 56,
   "metadata": {
    "executionInfo": {
     "elapsed": 615,
     "status": "ok",
     "timestamp": 1605118224622,
     "user": {
      "displayName": "Anna Polyanskaya",
      "photoUrl": "https://lh3.googleusercontent.com/a-/AOh14GjCUYMOQt6aOB-2CITnf-qOI1gYhyk4iXet5aGw=s64",
      "userId": "11441471589656650230"
     },
     "user_tz": -180
    },
    "id": "1yvIVjibkTYx"
   },
   "outputs": [],
   "source": [
    "class CBOWDataset(Dataset):\n",
    "\n",
    "    def __init__(self,\n",
    "                 corpus,\n",
    "                 word2index,\n",
    "                 window=2,\n",
    "                 unk_token='UNK',\n",
    "                 pad_token='PAD',\n",
    "                 collect_verbose=True):\n",
    "\n",
    "        self.corpus = corpus\n",
    "        self.word2index = word2index\n",
    "        self.index2word = {value: key for key, value in self.word2index.items()}\n",
    "        self.window = window\n",
    "\n",
    "        self.unk_token = unk_token\n",
    "        self.unk_index = self.word2index[self.unk_token]\n",
    "\n",
    "        self.pad_token = pad_token\n",
    "        self.pad_index = len(self.word2index)\n",
    "\n",
    "        self.collect_verbose = collect_verbose\n",
    "\n",
    "        self.data = []\n",
    "\n",
    "        self.collect_data()\n",
    "\n",
    "    def __len__(self):\n",
    "\n",
    "        return len(self.data)\n",
    "\n",
    "    def _split_function(self, tokenized_text):\n",
    "\n",
    "        splits = []\n",
    "\n",
    "        for n in range(len(tokenized_text)):\n",
    "            left_context = tokenized_text[np.maximum(n - self.window, 0):n]\n",
    "            left_context = ([self.pad_index] * (self.window - len(left_context))) + left_context\n",
    "\n",
    "            central_word = tokenized_text[n]\n",
    "\n",
    "            right_context = tokenized_text[n + 1:n + self.window + 1]\n",
    "            right_context = right_context + ([self.pad_index] * (self.window - len(right_context)))\n",
    "\n",
    "            splits.append((left_context + right_context, central_word))\n",
    "\n",
    "        return splits\n",
    "\n",
    "    def indexing(self, tokenized_text):\n",
    "\n",
    "        return [self.word2index[token] if token in self.word2index else self.unk_index for token in tokenized_text]\n",
    "\n",
    "    def collect_data(self):\n",
    "\n",
    "        corpus = tqdm(self.corpus, disable=not self.collect_verbose)\n",
    "\n",
    "        for tokenized_text in corpus:\n",
    "            indexed_text = self.indexing(tokenized_text)\n",
    "            cbow_examples = self._split_function(indexed_text)\n",
    "\n",
    "            self.data.extend(cbow_examples)\n",
    "\n",
    "    def __getitem__(self, idx):\n",
    "\n",
    "        context, central_word = self.data[idx]\n",
    "\n",
    "        context = torch.Tensor(context).long()\n",
    "\n",
    "        return context, central_word"
   ]
  },
  {
   "cell_type": "markdown",
   "metadata": {
    "id": "_5D-UQOWkTY0"
   },
   "source": [
    "# Мы будем учить модель Skipgram\n",
    "Реализуйте читалку данных"
   ]
  },
  {
   "cell_type": "code",
   "execution_count": 57,
   "metadata": {
    "executionInfo": {
     "elapsed": 836,
     "status": "ok",
     "timestamp": 1605120358174,
     "user": {
      "displayName": "Anna Polyanskaya",
      "photoUrl": "https://lh3.googleusercontent.com/a-/AOh14GjCUYMOQt6aOB-2CITnf-qOI1gYhyk4iXet5aGw=s64",
      "userId": "11441471589656650230"
     },
     "user_tz": -180
    },
    "id": "lvQoXjw8kTY2"
   },
   "outputs": [],
   "source": [
    "class SkipgramDataset(Dataset):\n",
    "\n",
    "    def __init__(self,\n",
    "                 corpus,\n",
    "                 word2index,\n",
    "                 window=2,\n",
    "                 unk_token='UNK',\n",
    "                 collect_verbose=True):\n",
    "\n",
    "        self.corpus = corpus\n",
    "        self.word2index = word2index\n",
    "        self.index2word = {value: key for key, value in self.word2index.items()}\n",
    "        self.window = window\n",
    "\n",
    "        self.unk_token = unk_token\n",
    "        self.unk_index = self.word2index[self.unk_token]\n",
    "\n",
    "        self.collect_verbose = collect_verbose\n",
    "\n",
    "        self.data = []\n",
    "\n",
    "        self.collect_data()\n",
    "\n",
    "    def __len__(self):\n",
    "\n",
    "        return len(self.data)\n",
    "\n",
    "    def _split_function(self, tokenized_text):\n",
    "        \n",
    "        # CODE\n",
    "        \n",
    "        # вставить здесь функцию, которые вы писали раньше\n",
    "\n",
    "        splits = []\n",
    "\n",
    "        l = len(tokenized_text)\n",
    "        for i, word in enumerate(tokenized_text):\n",
    "            start = max(i-self.window, 0)\n",
    "            end = min(i+self.window+1, l-1)\n",
    "\n",
    "            # while True:\n",
    "            #     try:\n",
    "            #         left = tokens[start:i]\n",
    "            #         break\n",
    "            #     except IndexError:\n",
    "            #         start += 1\n",
    "            # while True:\n",
    "            #     try:\n",
    "            #         right = tokens[i+1:end]\n",
    "            #         break\n",
    "            #     except IndexError:\n",
    "            #         end -= 1\n",
    "            \n",
    "            left = tokenized_text[start:i]\n",
    "            right = tokenized_text[i+1:end]\n",
    "            for context in left+right:\n",
    "                splits.append((context, word))\n",
    "\n",
    "        return splits\n",
    "\n",
    "    def indexing(self, tokenized_text):\n",
    "\n",
    "        return [self.word2index[token] if token in self.word2index else self.unk_index for token in tokenized_text]\n",
    "\n",
    "    def collect_data(self):\n",
    "\n",
    "        corpus = tqdm(self.corpus, disable=not self.collect_verbose)\n",
    "\n",
    "        for tokenized_text in corpus:\n",
    "            indexed_text = self.indexing(tokenized_text)\n",
    "            skipgram_examples = self._split_function(indexed_text)\n",
    "\n",
    "            self.data.extend(skipgram_examples)\n",
    "\n",
    "    def __getitem__(self, idx):\n",
    "        \n",
    "        # CODE\n",
    "        context, central_word = self.data[idx]\n",
    "        #context = torch.Tensor(context).long()\n",
    "\n",
    "        return context, central_word"
   ]
  },
  {
   "cell_type": "code",
   "execution_count": 58,
   "metadata": {
    "colab": {
     "base_uri": "https://localhost:8080/"
    },
    "executionInfo": {
     "elapsed": 2289,
     "status": "ok",
     "timestamp": 1605120359789,
     "user": {
      "displayName": "Anna Polyanskaya",
      "photoUrl": "https://lh3.googleusercontent.com/a-/AOh14GjCUYMOQt6aOB-2CITnf-qOI1gYhyk4iXet5aGw=s64",
      "userId": "11441471589656650230"
     },
     "user_tz": -180
    },
    "id": "g6_snrESkTY8",
    "outputId": "28d1b3be-4acd-478b-e8ea-0b0e0383c5bc",
    "scrolled": true
   },
   "outputs": [
    {
     "data": {
      "application/vnd.jupyter.widget-view+json": {
       "model_id": "876057adb65a4766ab1a0518e08ce092",
       "version_major": 2,
       "version_minor": 0
      },
      "text/plain": [
       "HBox(children=(IntProgress(value=0, max=100000), HTML(value='')))"
      ]
     },
     "metadata": {},
     "output_type": "display_data"
    },
    {
     "name": "stdout",
     "output_type": "stream",
     "text": [
      "\n"
     ]
    }
   ],
   "source": [
    "dataset = SkipgramDataset(corpus, word2index)"
   ]
  },
  {
   "cell_type": "code",
   "execution_count": 59,
   "metadata": {
    "executionInfo": {
     "elapsed": 790,
     "status": "ok",
     "timestamp": 1605120760015,
     "user": {
      "displayName": "Anna Polyanskaya",
      "photoUrl": "https://lh3.googleusercontent.com/a-/AOh14GjCUYMOQt6aOB-2CITnf-qOI1gYhyk4iXet5aGw=s64",
      "userId": "11441471589656650230"
     },
     "user_tz": -180
    },
    "id": "Ghm6fTqfkTY_"
   },
   "outputs": [],
   "source": [
    "BATCH_SIZE = 512"
   ]
  },
  {
   "cell_type": "code",
   "execution_count": 60,
   "metadata": {
    "executionInfo": {
     "elapsed": 621,
     "status": "ok",
     "timestamp": 1605120760262,
     "user": {
      "displayName": "Anna Polyanskaya",
      "photoUrl": "https://lh3.googleusercontent.com/a-/AOh14GjCUYMOQt6aOB-2CITnf-qOI1gYhyk4iXet5aGw=s64",
      "userId": "11441471589656650230"
     },
     "user_tz": -180
    },
    "id": "7diVZXHQkTZD"
   },
   "outputs": [],
   "source": [
    "dataset_loader = DataLoader(dataset, shuffle=True, batch_size=BATCH_SIZE)"
   ]
  },
  {
   "cell_type": "code",
   "execution_count": 61,
   "metadata": {
    "executionInfo": {
     "elapsed": 758,
     "status": "ok",
     "timestamp": 1605120760852,
     "user": {
      "displayName": "Anna Polyanskaya",
      "photoUrl": "https://lh3.googleusercontent.com/a-/AOh14GjCUYMOQt6aOB-2CITnf-qOI1gYhyk4iXet5aGw=s64",
      "userId": "11441471589656650230"
     },
     "user_tz": -180
    },
    "id": "ooEm0f3qkTZH"
   },
   "outputs": [],
   "source": [
    "for x, y in dataset_loader:\n",
    "    break"
   ]
  },
  {
   "cell_type": "code",
   "execution_count": 62,
   "metadata": {
    "colab": {
     "base_uri": "https://localhost:8080/"
    },
    "executionInfo": {
     "elapsed": 558,
     "status": "ok",
     "timestamp": 1605120761202,
     "user": {
      "displayName": "Anna Polyanskaya",
      "photoUrl": "https://lh3.googleusercontent.com/a-/AOh14GjCUYMOQt6aOB-2CITnf-qOI1gYhyk4iXet5aGw=s64",
      "userId": "11441471589656650230"
     },
     "user_tz": -180
    },
    "id": "ikXFwEVSkTZK",
    "outputId": "e5d9d3e0-1b15-4cdd-9278-4a513a839caa"
   },
   "outputs": [
    {
     "data": {
      "text/plain": [
       "tensor([ 748,  252, 1054,   23, 1023])"
      ]
     },
     "execution_count": 62,
     "metadata": {},
     "output_type": "execute_result"
    }
   ],
   "source": [
    "x[:5]"
   ]
  },
  {
   "cell_type": "code",
   "execution_count": 63,
   "metadata": {
    "colab": {
     "base_uri": "https://localhost:8080/"
    },
    "executionInfo": {
     "elapsed": 595,
     "status": "ok",
     "timestamp": 1605120762605,
     "user": {
      "displayName": "Anna Polyanskaya",
      "photoUrl": "https://lh3.googleusercontent.com/a-/AOh14GjCUYMOQt6aOB-2CITnf-qOI1gYhyk4iXet5aGw=s64",
      "userId": "11441471589656650230"
     },
     "user_tz": -180
    },
    "id": "v_Du4NpIkTZN",
    "outputId": "5a5b77e0-c33d-4131-f5bc-abf028c42753"
   },
   "outputs": [
    {
     "data": {
      "text/plain": [
       "tensor([ 112, 5790,  641,  887,  983])"
      ]
     },
     "execution_count": 63,
     "metadata": {},
     "output_type": "execute_result"
    }
   ],
   "source": [
    "y[:5]"
   ]
  },
  {
   "cell_type": "code",
   "execution_count": 64,
   "metadata": {
    "colab": {
     "base_uri": "https://localhost:8080/"
    },
    "executionInfo": {
     "elapsed": 628,
     "status": "ok",
     "timestamp": 1605120764384,
     "user": {
      "displayName": "Anna Polyanskaya",
      "photoUrl": "https://lh3.googleusercontent.com/a-/AOh14GjCUYMOQt6aOB-2CITnf-qOI1gYhyk4iXet5aGw=s64",
      "userId": "11441471589656650230"
     },
     "user_tz": -180
    },
    "id": "IuG2PtrWkTZS",
    "outputId": "04b1afb3-fb56-4aae-f9c7-288784e62ea2"
   },
   "outputs": [
    {
     "data": {
      "text/plain": [
       "(torch.Size([512]), torch.Size([512]))"
      ]
     },
     "execution_count": 64,
     "metadata": {},
     "output_type": "execute_result"
    }
   ],
   "source": [
    "x.shape, y.shape"
   ]
  },
  {
   "cell_type": "code",
   "execution_count": 65,
   "metadata": {
    "executionInfo": {
     "elapsed": 744,
     "status": "ok",
     "timestamp": 1605120820450,
     "user": {
      "displayName": "Anna Polyanskaya",
      "photoUrl": "https://lh3.googleusercontent.com/a-/AOh14GjCUYMOQt6aOB-2CITnf-qOI1gYhyk4iXet5aGw=s64",
      "userId": "11441471589656650230"
     },
     "user_tz": -180
    },
    "id": "RFy5t9xCkTZV"
   },
   "outputs": [],
   "source": [
    "class CBOW(torch.nn.Module):\n",
    "    \n",
    "    def __init__(self, vocab_size, embedding_dim, pad_index):\n",
    "        \n",
    "        super().__init__()\n",
    "        \n",
    "        if pad_index > 0:\n",
    "            vocab_size += 1\n",
    "        \n",
    "        self.in_embedding = torch.nn.Embedding(num_embeddings=vocab_size, \n",
    "                                               embedding_dim=embedding_dim,\n",
    "                                               padding_idx=pad_index)\n",
    "        \n",
    "        self.out_embedding = torch.nn.Linear(in_features=embedding_dim,\n",
    "                                             out_features=vocab_size, bias=False)\n",
    "        \n",
    "    def forward(self, x):\n",
    "        \n",
    "        x = self.in_embedding(x).sum(dim=-2)\n",
    "        x = self.out_embedding(x)\n",
    "        \n",
    "        return x"
   ]
  },
  {
   "cell_type": "markdown",
   "metadata": {
    "id": "TzKYBpRikTZY"
   },
   "source": [
    "# Мы будем учить модель Skipgram\n",
    "Реализуйте ее"
   ]
  },
  {
   "cell_type": "code",
   "execution_count": 66,
   "metadata": {
    "executionInfo": {
     "elapsed": 606,
     "status": "ok",
     "timestamp": 1605121129019,
     "user": {
      "displayName": "Anna Polyanskaya",
      "photoUrl": "https://lh3.googleusercontent.com/a-/AOh14GjCUYMOQt6aOB-2CITnf-qOI1gYhyk4iXet5aGw=s64",
      "userId": "11441471589656650230"
     },
     "user_tz": -180
    },
    "id": "biQF6j_vkTZZ"
   },
   "outputs": [],
   "source": [
    "# CODE\n",
    "class SkipGram(torch.nn.Module):\n",
    "\n",
    "    def __init__(self, vocab_size, embedding_dim):\n",
    "        \n",
    "        super().__init__()\n",
    "        \n",
    "        \n",
    "        self.in_embedding = torch.nn.Embedding(num_embeddings=vocab_size, \n",
    "                                               embedding_dim=embedding_dim)\n",
    "        \n",
    "        self.out_embedding = torch.nn.Linear(in_features=embedding_dim,\n",
    "                                             out_features=vocab_size, bias=False)\n",
    "        \n",
    "    def forward(self, x):\n",
    "        \n",
    "        x = self.in_embedding(x)\n",
    "        x = self.out_embedding(x)\n",
    "        \n",
    "        return x"
   ]
  },
  {
   "cell_type": "code",
   "execution_count": 67,
   "metadata": {
    "executionInfo": {
     "elapsed": 594,
     "status": "ok",
     "timestamp": 1605121130584,
     "user": {
      "displayName": "Anna Polyanskaya",
      "photoUrl": "https://lh3.googleusercontent.com/a-/AOh14GjCUYMOQt6aOB-2CITnf-qOI1gYhyk4iXet5aGw=s64",
      "userId": "11441471589656650230"
     },
     "user_tz": -180
    },
    "id": "alXDZAA9kTZg"
   },
   "outputs": [],
   "source": [
    "# размерность эмбеддинга\n",
    "# маленькая, чтобы мы могли недолго поучить ворд2век и увидеть результаты\n",
    "EMBEDDING_DIM = 20"
   ]
  },
  {
   "cell_type": "code",
   "execution_count": 68,
   "metadata": {
    "executionInfo": {
     "elapsed": 645,
     "status": "ok",
     "timestamp": 1605121131735,
     "user": {
      "displayName": "Anna Polyanskaya",
      "photoUrl": "https://lh3.googleusercontent.com/a-/AOh14GjCUYMOQt6aOB-2CITnf-qOI1gYhyk4iXet5aGw=s64",
      "userId": "11441471589656650230"
     },
     "user_tz": -180
    },
    "id": "-7DFewMTkTZk"
   },
   "outputs": [],
   "source": [
    "model = SkipGram(vocab_size=len(word2index), embedding_dim=EMBEDDING_DIM)"
   ]
  },
  {
   "cell_type": "code",
   "execution_count": 70,
   "metadata": {
    "colab": {
     "base_uri": "https://localhost:8080/"
    },
    "executionInfo": {
     "elapsed": 615,
     "status": "ok",
     "timestamp": 1605121137698,
     "user": {
      "displayName": "Anna Polyanskaya",
      "photoUrl": "https://lh3.googleusercontent.com/a-/AOh14GjCUYMOQt6aOB-2CITnf-qOI1gYhyk4iXet5aGw=s64",
      "userId": "11441471589656650230"
     },
     "user_tz": -180
    },
    "id": "vdUfCoI7kTZn",
    "outputId": "bb63577a-5906-4ab5-ed02-a6fe3e0935ab"
   },
   "outputs": [
    {
     "data": {
      "text/plain": [
       "torch.Size([512, 13038])"
      ]
     },
     "execution_count": 70,
     "metadata": {},
     "output_type": "execute_result"
    }
   ],
   "source": [
    "with torch.no_grad():\n",
    "    pred = model(x)\n",
    "\n",
    "pred.shape"
   ]
  },
  {
   "cell_type": "code",
   "execution_count": 71,
   "metadata": {},
   "outputs": [
    {
     "data": {
      "text/plain": [
       "tensor([[ 0.1753, -0.8121, -0.4549,  ...,  0.1794,  0.0070,  0.2040],\n",
       "        [ 0.0064, -0.1958, -0.5930,  ..., -0.0137,  0.1130,  0.7726],\n",
       "        [ 0.6201, -0.0579,  0.0158,  ...,  0.1466,  0.1445,  0.2474],\n",
       "        ...,\n",
       "        [ 0.4531, -0.1106, -0.1440,  ..., -0.2577,  0.3003,  0.3727],\n",
       "        [-0.9020,  0.5894, -0.2132,  ..., -0.2407,  0.5634, -0.0986],\n",
       "        [-1.4432,  0.3830, -0.7809,  ..., -1.8628, -0.0433,  0.3689]])"
      ]
     },
     "execution_count": 71,
     "metadata": {},
     "output_type": "execute_result"
    }
   ],
   "source": [
    "pred"
   ]
  },
  {
   "cell_type": "code",
   "execution_count": 72,
   "metadata": {
    "executionInfo": {
     "elapsed": 622,
     "status": "ok",
     "timestamp": 1605121141658,
     "user": {
      "displayName": "Anna Polyanskaya",
      "photoUrl": "https://lh3.googleusercontent.com/a-/AOh14GjCUYMOQt6aOB-2CITnf-qOI1gYhyk4iXet5aGw=s64",
      "userId": "11441471589656650230"
     },
     "user_tz": -180
    },
    "id": "xuMY_Pq8kTZq"
   },
   "outputs": [],
   "source": [
    "optimizer = torch.optim.Adam(params=model.parameters(), lr=0.0001)\n",
    "\n",
    "# aka loss function\n",
    "criterion = torch.nn.CrossEntropyLoss()"
   ]
  },
  {
   "cell_type": "markdown",
   "metadata": {
    "id": "CHwX_RiLkTZt"
   },
   "source": [
    "# Допишите обучалку"
   ]
  },
  {
   "cell_type": "code",
   "execution_count": 73,
   "metadata": {
    "colab": {
     "base_uri": "https://localhost:8080/"
    },
    "id": "khCLuiBukTZu",
    "outputId": "2574f3fd-3d40-4f87-8323-5858720a5557"
   },
   "outputs": [
    {
     "data": {
      "application/vnd.jupyter.widget-view+json": {
       "model_id": "51adf00400124683a9391d6506644779",
       "version_major": 2,
       "version_minor": 0
      },
      "text/plain": [
       "HBox(children=(IntProgress(value=0, description='Epoch 1', max=2780217, style=ProgressStyle(description_width=…"
      ]
     },
     "metadata": {},
     "output_type": "display_data"
    },
    {
     "name": "stdout",
     "output_type": "stream",
     "text": [
      "\n"
     ]
    },
    {
     "data": {
      "application/vnd.jupyter.widget-view+json": {
       "model_id": "dfcebeb33de3497493a2e8b98112ee08",
       "version_major": 2,
       "version_minor": 0
      },
      "text/plain": [
       "HBox(children=(IntProgress(value=0, description='Epoch 2', max=2780217, style=ProgressStyle(description_width=…"
      ]
     },
     "metadata": {},
     "output_type": "display_data"
    },
    {
     "name": "stdout",
     "output_type": "stream",
     "text": [
      "\n"
     ]
    },
    {
     "data": {
      "application/vnd.jupyter.widget-view+json": {
       "model_id": "1551435f40424a54965285b2ff5b6488",
       "version_major": 2,
       "version_minor": 0
      },
      "text/plain": [
       "HBox(children=(IntProgress(value=0, description='Epoch 3', max=2780217, style=ProgressStyle(description_width=…"
      ]
     },
     "metadata": {},
     "output_type": "display_data"
    },
    {
     "name": "stdout",
     "output_type": "stream",
     "text": [
      "\n"
     ]
    }
   ],
   "source": [
    "epochs = 3\n",
    "\n",
    "losses = []\n",
    "\n",
    "for n_epoch in range(epochs):\n",
    "\n",
    "    try:\n",
    "\n",
    "        progress_bar = tqdm(total=len(dataset_loader.dataset), desc='Epoch {}'.format(n_epoch + 1))\n",
    "\n",
    "        for x, y in dataset_loader:\n",
    "\n",
    "            # CODE\n",
    "            \n",
    "            pred = model(x)\n",
    "\n",
    "            loss = criterion(pred, y)\n",
    "            \n",
    "            # CODE\n",
    "            loss.backward()\n",
    "            optimizer.step()\n",
    "            \n",
    "            losses.append(loss.item())\n",
    "            \n",
    "            progress_bar.set_postfix(loss=np.mean(losses[-100:]))\n",
    "\n",
    "            progress_bar.update(x.shape[0])\n",
    "\n",
    "        progress_bar.close()\n",
    "\n",
    "    except KeyboardInterrupt:\n",
    "\n",
    "        progress_bar.close()\n",
    "        break"
   ]
  },
  {
   "cell_type": "markdown",
   "metadata": {},
   "source": [
    "```\n",
    "100% 2780217/2780217 [16:25<00:00, 2819.95it/s, loss=7.42]\n",
    "100% 2780217/2780217 [16:27<00:00, 2814.06it/s, loss=7.3]\n",
    "100% 2780217/2780217 [16:43<00:00, 2770.27it/s, loss=7.14]\n",
    "```"
   ]
  },
  {
   "cell_type": "code",
   "execution_count": 74,
   "metadata": {},
   "outputs": [
    {
     "data": {
      "text/plain": [
       "[<matplotlib.lines.Line2D at 0x1adb87c7b00>]"
      ]
     },
     "execution_count": 74,
     "metadata": {},
     "output_type": "execute_result"
    },
    {
     "data": {
      "image/png": "[encoded data removed]",
      "text/plain": [
       "<Figure size 1080x1080 with 1 Axes>"
      ]
     },
     "metadata": {
      "needs_background": "light"
     },
     "output_type": "display_data"
    }
   ],
   "source": [
    "plt.title('SkipGram Training Process')\n",
    "plt.xlabel('Itearations')\n",
    "plt.ylabel('Loss')\n",
    "plt.grid()\n",
    "plt.plot(losses)"
   ]
  },
  {
   "cell_type": "code",
   "execution_count": null,
   "metadata": {
    "id": "-LYj557ykTZx",
    "outputId": "6b7b11b8-c479-4c27-e2da-4104e8f64b08"
   },
   "outputs": [
    {
     "data": {
      "text/plain": [
       "[<matplotlib.lines.Line2D at 0x13e8c5d30>]"
      ]
     },
     "execution_count": 32,
     "metadata": {
      "tags": []
     },
     "output_type": "execute_result"
    },
    {
     "data": {
      "image/png": "[encoded data removed]",
      "text/plain": [
       "<Figure size 1008x1008 with 1 Axes>"
      ]
     },
     "metadata": {
      "needs_background": "light",
      "tags": []
     },
     "output_type": "display_data"
    }
   ],
   "source": [
    "# из оригинальной тетрадки\n",
    "\n",
    "plt.title('SkipGram Training Process')\n",
    "plt.xlabel('Itearations')\n",
    "plt.ylabel('Loss')\n",
    "plt.grid()\n",
    "plt.plot(losses)"
   ]
  },
  {
   "cell_type": "code",
   "execution_count": 75,
   "metadata": {
    "id": "GvzjRFvKkTZ1"
   },
   "outputs": [],
   "source": [
    "# проверка, что хоть что-то выучилось\n",
    "assert np.mean(losses[-1000:]) < 7.5"
   ]
  },
  {
   "cell_type": "code",
   "execution_count": 76,
   "metadata": {
    "id": "3yEyuTZ8kTZ3"
   },
   "outputs": [],
   "source": [
    "embedding_matrix = model.in_embedding.weight.detach()"
   ]
  },
  {
   "cell_type": "code",
   "execution_count": 77,
   "metadata": {
    "id": "qxD2Mks8kTZ6"
   },
   "outputs": [],
   "source": [
    "def cos_sim(embedding_matrix, token2id, word1, word2):\n",
    "    \n",
    "    i1 = token2id[word1]\n",
    "    i2 = token2id[word2]\n",
    "    \n",
    "    v1, v2 = embedding_matrix[i1], embedding_matrix[i2]\n",
    "    \n",
    "    v1_n = v1.div(v1.norm(keepdim=True))\n",
    "    v2_n = v2.div(v2.norm(keepdim=True))\n",
    "    \n",
    "    similarity = torch.dot(v1_n, v2_n).item()\n",
    "    \n",
    "    return similarity"
   ]
  },
  {
   "cell_type": "markdown",
   "metadata": {
    "id": "OaV0V5VPkTZ9"
   },
   "source": [
    "# Косинусная близость\n",
    "От 0 до 1, где 0 - вектора абсолютно разные, где 1 - идентичные."
   ]
  },
  {
   "cell_type": "code",
   "execution_count": 78,
   "metadata": {
    "id": "VY6uJoIhkTZ9",
    "outputId": "7a631ad8-2e49-43ae-d0f1-323abf0bedd9"
   },
   "outputs": [
    {
     "data": {
      "text/plain": [
       "0.7116082310676575"
      ]
     },
     "execution_count": 78,
     "metadata": {},
     "output_type": "execute_result"
    }
   ],
   "source": [
    "cos_sim(embedding_matrix, word2index, 'день', 'месяц')"
   ]
  },
  {
   "cell_type": "code",
   "execution_count": 79,
   "metadata": {
    "id": "U0x8DCUukTaA",
    "outputId": "36db6d51-9f46-4703-e894-37af3badf5ab"
   },
   "outputs": [
    {
     "data": {
      "text/plain": [
       "0.7589919567108154"
      ]
     },
     "execution_count": 79,
     "metadata": {},
     "output_type": "execute_result"
    }
   ],
   "source": [
    "cos_sim(embedding_matrix, word2index, 'минута', 'месяц')"
   ]
  },
  {
   "cell_type": "code",
   "execution_count": 80,
   "metadata": {
    "id": "Zr-8HeQ5kTaC",
    "outputId": "25742e6b-e3fd-4260-b569-ac7c9dc1995a"
   },
   "outputs": [
    {
     "data": {
      "text/plain": [
       "0.6620911955833435"
      ]
     },
     "execution_count": 80,
     "metadata": {},
     "output_type": "execute_result"
    }
   ],
   "source": [
    "cos_sim(embedding_matrix, word2index, 'сотрудник', 'сотрудница')"
   ]
  },
  {
   "cell_type": "code",
   "execution_count": 81,
   "metadata": {
    "id": "H8JGEnBJkTaG",
    "outputId": "2189becb-877b-42a5-86c6-03228eaea194"
   },
   "outputs": [
    {
     "data": {
      "text/plain": [
       "0.7472051382064819"
      ]
     },
     "execution_count": 81,
     "metadata": {},
     "output_type": "execute_result"
    }
   ],
   "source": [
    "cos_sim(embedding_matrix, word2index, 'вклад', 'перевод')"
   ]
  },
  {
   "cell_type": "code",
   "execution_count": 82,
   "metadata": {
    "id": "6hweYouJkTaL",
    "outputId": "b0903a35-3c9e-4d3e-8cce-a1cf1c6a18b1"
   },
   "outputs": [
    {
     "data": {
      "text/plain": [
       "'Косинусная близость слова \"день\" к случайному выбраному слову \"ижевск\" равна 0.588'"
      ]
     },
     "execution_count": 82,
     "metadata": {},
     "output_type": "execute_result"
    }
   ],
   "source": [
    "random_word = random.choice(list(word2index.keys()))\n",
    "sim = cos_sim(embedding_matrix, word2index, 'день', random_word)\n",
    "'Косинусная близость слова \"день\" к случайному выбраному слову \"{}\" равна {:.3f}'.format(random_word, sim)"
   ]
  },
  {
   "cell_type": "code",
   "execution_count": 83,
   "metadata": {
    "id": "CiTvH-tPkTaN"
   },
   "outputs": [],
   "source": [
    "freq = {}\n",
    "\n",
    "for text in corpus:\n",
    "    for token in text:\n",
    "        if token in freq:\n",
    "            freq[token] += 1\n",
    "        else:\n",
    "            freq[token] = 1"
   ]
  },
  {
   "cell_type": "code",
   "execution_count": 84,
   "metadata": {
    "id": "IgBnXkB6kTaQ"
   },
   "outputs": [],
   "source": [
    "sorted_freq = [(k, freq[k]) for k in sorted(freq, key=freq.get, reverse=True)]\n",
    "top_sorted_freq = sorted_freq[0:200]"
   ]
  },
  {
   "cell_type": "code",
   "execution_count": 85,
   "metadata": {
    "id": "5V-SssQQkTaS",
    "outputId": "0ed2d4b2-2d39-49b5-f21d-4b3eff9a8049"
   },
   "outputs": [
    {
     "name": "stdout",
     "output_type": "stream",
     "text": [
      "[t-SNE] Computing 91 nearest neighbors...\n",
      "[t-SNE] Indexed 13038 samples in 0.077s...\n",
      "[t-SNE] Computed neighbors for 13038 samples in 6.949s...\n",
      "[t-SNE] Computed conditional probabilities for sample 1000 / 13038\n",
      "[t-SNE] Computed conditional probabilities for sample 2000 / 13038\n",
      "[t-SNE] Computed conditional probabilities for sample 3000 / 13038\n",
      "[t-SNE] Computed conditional probabilities for sample 4000 / 13038\n",
      "[t-SNE] Computed conditional probabilities for sample 5000 / 13038\n",
      "[t-SNE] Computed conditional probabilities for sample 6000 / 13038\n",
      "[t-SNE] Computed conditional probabilities for sample 7000 / 13038\n",
      "[t-SNE] Computed conditional probabilities for sample 8000 / 13038\n",
      "[t-SNE] Computed conditional probabilities for sample 9000 / 13038\n",
      "[t-SNE] Computed conditional probabilities for sample 10000 / 13038\n",
      "[t-SNE] Computed conditional probabilities for sample 11000 / 13038\n",
      "[t-SNE] Computed conditional probabilities for sample 12000 / 13038\n",
      "[t-SNE] Computed conditional probabilities for sample 13000 / 13038\n",
      "[t-SNE] Computed conditional probabilities for sample 13038 / 13038\n",
      "[t-SNE] Mean sigma: 1.047140\n",
      "[t-SNE] Computed conditional probabilities in 0.627s\n",
      "[t-SNE] Iteration 50: error = 97.2995911, gradient norm = 0.0001686 (50 iterations in 7.702s)\n",
      "[t-SNE] Iteration 100: error = 97.3452606, gradient norm = 0.0000057 (50 iterations in 6.266s)\n",
      "[t-SNE] Iteration 150: error = 97.3466721, gradient norm = 0.0000048 (50 iterations in 5.223s)\n",
      "[t-SNE] Iteration 200: error = 97.3467102, gradient norm = 0.0000060 (50 iterations in 5.097s)\n",
      "[t-SNE] Iteration 250: error = 97.3467255, gradient norm = 0.0000079 (50 iterations in 5.170s)\n",
      "[t-SNE] KL divergence after 250 iterations with early exaggeration: 97.346725\n",
      "[t-SNE] Iteration 300: error = 4.7765508, gradient norm = 0.0005751 (50 iterations in 5.576s)\n",
      "[t-SNE] Iteration 350: error = 4.3165288, gradient norm = 0.0005760 (50 iterations in 7.376s)\n",
      "[t-SNE] Iteration 400: error = 4.1894865, gradient norm = 0.0003225 (50 iterations in 7.331s)\n",
      "[t-SNE] Iteration 450: error = 4.1080651, gradient norm = 0.0002241 (50 iterations in 7.301s)\n",
      "[t-SNE] Iteration 500: error = 4.0494599, gradient norm = 0.0001658 (50 iterations in 7.976s)\n",
      "[t-SNE] Iteration 550: error = 4.0050468, gradient norm = 0.0001331 (50 iterations in 7.282s)\n",
      "[t-SNE] Iteration 600: error = 3.9686787, gradient norm = 0.0001123 (50 iterations in 7.639s)\n",
      "[t-SNE] Iteration 650: error = 3.9393761, gradient norm = 0.0000928 (50 iterations in 7.555s)\n",
      "[t-SNE] Iteration 700: error = 3.9145801, gradient norm = 0.0000807 (50 iterations in 7.634s)\n",
      "[t-SNE] Iteration 750: error = 3.8933713, gradient norm = 0.0000767 (50 iterations in 7.008s)\n",
      "[t-SNE] Iteration 800: error = 3.8755894, gradient norm = 0.0000663 (50 iterations in 7.183s)\n",
      "[t-SNE] Iteration 850: error = 3.8603716, gradient norm = 0.0000661 (50 iterations in 6.961s)\n",
      "[t-SNE] Iteration 900: error = 3.8473952, gradient norm = 0.0000521 (50 iterations in 7.127s)\n",
      "[t-SNE] Iteration 950: error = 3.8360198, gradient norm = 0.0000480 (50 iterations in 7.602s)\n",
      "[t-SNE] Iteration 1000: error = 3.8261158, gradient norm = 0.0000440 (50 iterations in 7.860s)\n",
      "[t-SNE] KL divergence after 1000 iterations: 3.826116\n"
     ]
    }
   ],
   "source": [
    "tsne = TSNE(n_components=2, init='pca', random_state=42, verbose=2)\n",
    "reduced = tsne.fit_transform(embedding_matrix)"
   ]
  },
  {
   "cell_type": "code",
   "execution_count": 87,
   "metadata": {
    "id": "TxnoGII5kTaV"
   },
   "outputs": [],
   "source": [
    "top_words = [a for a,_ in top_sorted_freq]"
   ]
  },
  {
   "cell_type": "code",
   "execution_count": 88,
   "metadata": {
    "id": "rYf7M6iwkTaa"
   },
   "outputs": [],
   "source": [
    "inds = [word2index[word] for word in top_words]\n",
    "x_coords = [coords[0] for coords in reduced[inds]]\n",
    "y_coords = [coords[1] for coords in reduced[inds]]"
   ]
  },
  {
   "cell_type": "code",
   "execution_count": 89,
   "metadata": {},
   "outputs": [
    {
     "data": {
      "image/png": "[encoded data removed]",
      "text/plain": [
       "<Figure size 1080x1080 with 1 Axes>"
      ]
     },
     "metadata": {
      "needs_background": "light"
     },
     "output_type": "display_data"
    }
   ],
   "source": [
    "for (x, y, word) in zip(x_coords, y_coords, top_words):\n",
    "    plt.scatter(x, y, marker='.', color='blue')\n",
    "    plt.text(x+0.01, y+0.01, word, fontsize=9)\n",
    "plt.show()"
   ]
  },
  {
   "cell_type": "code",
   "execution_count": null,
   "metadata": {
    "id": "k8xZC4GSkTac",
    "outputId": "913e15dc-0380-41fd-bdae-af00e7644e79"
   },
   "outputs": [
    {
     "data": {
      "image/png": "[encoded data removed]",
      "text/plain": [
       "<Figure size 1080x1080 with 1 Axes>"
      ]
     },
     "metadata": {
      "needs_background": "light",
      "tags": []
     },
     "output_type": "display_data"
    }
   ],
   "source": [
    "# из оригинальной тетрадки\n",
    "\n",
    "for (x, y, word) in zip(x_coords, y_coords, top_words):\n",
    "    plt.scatter(x, y, marker='.', color='blue')\n",
    "    plt.text(x+0.01, y+0.01, word, fontsize=9)\n",
    "plt.show()"
   ]
  },
  {
   "cell_type": "code",
   "execution_count": 98,
   "metadata": {},
   "outputs": [],
   "source": [
    "torch.save(model, 'model.pt')\n",
    "torch.save(model.state_dict(), 'model_state_dict.pt')\n",
    "torch.save(embedding_matrix, 'embedding_matrix.pt')"
   ]
  },
  {
   "cell_type": "code",
   "execution_count": 101,
   "metadata": {},
   "outputs": [],
   "source": [
    "with open('word2index.json', 'w', encoding='utf-8') as f:\n",
    "    json.dump(word2index, f, ensure_ascii=False)"
   ]
  },
  {
   "cell_type": "markdown",
   "metadata": {
    "id": "uJI5LIzSkTae"
   },
   "source": [
    "*Анна Полянская, БКЛ171*"
   ]
  }
 ],
 "metadata": {
  "colab": {
   "collapsed_sections": [
    "Hpno9Yp6kTW5"
   ],
   "name": "Копия блокнота \"Homework2_word2vec.ipynb\"",
   "provenance": [
    {
     "file_id": "https://github.com/semensorokin/DL_for_NLP_2021/blob/master/homework2/Homework2_word2vec.ipynb",
     "timestamp": 1605113612269
    }
   ]
  },
  "kernelspec": {
   "display_name": "Python 3",
   "language": "python",
   "name": "python3"
  },
  "language_info": {
   "codemirror_mode": {
    "name": "ipython",
    "version": 3
   },
   "file_extension": ".py",
   "mimetype": "text/x-python",
   "name": "python",
   "nbconvert_exporter": "python",
   "pygments_lexer": "ipython3",
   "version": "3.7.3"
  }
 },
 "nbformat": 4,
 "nbformat_minor": 1
}
